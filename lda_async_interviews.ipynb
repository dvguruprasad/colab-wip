{
  "nbformat": 4,
  "nbformat_minor": 0,
  "metadata": {
    "colab": {
      "provenance": [],
      "authorship_tag": "ABX9TyNtJjk86xb9dzqcVQkxAN+N",
      "include_colab_link": true
    },
    "kernelspec": {
      "name": "python3",
      "display_name": "Python 3"
    },
    "language_info": {
      "name": "python"
    }
  },
  "cells": [
    {
      "cell_type": "markdown",
      "metadata": {
        "id": "view-in-github",
        "colab_type": "text"
      },
      "source": [
        "<a href=\"https://colab.research.google.com/github/dvguruprasad/colab-wip/blob/main/lda_async_interviews.ipynb\" target=\"_parent\"><img src=\"https://colab.research.google.com/assets/colab-badge.svg\" alt=\"Open In Colab\"/></a>"
      ]
    },
    {
      "cell_type": "code",
      "execution_count": 1,
      "metadata": {
        "id": "50Foq5lV3eS8"
      },
      "outputs": [],
      "source": [
        "import csv \n",
        "\n",
        "all_data=[]\n",
        "with open('/content/query_result_2022-08-24T07_22_23.39294Z.csv', mode='r') as csv_file:\n",
        "  csv_reader = csv.DictReader(csv_file)\n",
        "  for row in csv_reader:\n",
        "    all_data.append(row)\n",
        "  all_data = all_data[1:]\n",
        "\n",
        "all = [i['data'] for i in all_data]\n",
        "not_recommended = [i['data'] for i in all_data if i['recommendation'] == 'Not Recommended']\n",
        "recommended = [i['data'] for i in all_data if i['recommendation'] == 'Recommended']\n",
        "\n",
        "corpus = all"
      ]
    },
    {
      "cell_type": "code",
      "source": [
        "import gensim\n",
        "from gensim.utils import simple_preprocess\n",
        "from gensim.parsing.preprocessing import STOPWORDS\n",
        "from nltk.stem import WordNetLemmatizer, SnowballStemmer\n",
        "from nltk.stem.porter import *\n",
        "import numpy as np\n",
        "import nltk\n",
        "nltk.download('wordnet')\n",
        "nltk.download('omw-1.4')\n",
        "\n",
        "\n",
        "stemmer = PorterStemmer()\n",
        "\n",
        "def lemmatize_stemming(text):\n",
        "    return stemmer.stem(WordNetLemmatizer().lemmatize(text, pos='v'))\n",
        "\n",
        "def preprocess(text):\n",
        "    result = []\n",
        "    for token in gensim.utils.simple_preprocess(text):\n",
        "        if token not in gensim.parsing.preprocessing.STOPWORDS and len(token) > 3:\n",
        "            result.append(lemmatize_stemming(token))\n",
        "    return result"
      ],
      "metadata": {
        "colab": {
          "base_uri": "https://localhost:8080/"
        },
        "id": "bidP0CbF4JTq",
        "outputId": "73e4cc5d-ab60-4107-cb6f-aed877e960b4"
      },
      "execution_count": 8,
      "outputs": [
        {
          "output_type": "stream",
          "name": "stderr",
          "text": [
            "[nltk_data] Downloading package wordnet to /root/nltk_data...\n",
            "[nltk_data]   Package wordnet is already up-to-date!\n",
            "[nltk_data] Downloading package omw-1.4 to /root/nltk_data...\n"
          ]
        }
      ]
    },
    {
      "cell_type": "code",
      "source": [
        "doc_sample = corpus[0]\n",
        "print('original document: ')\n",
        "words = []\n",
        "for word in doc_sample.split(' '):\n",
        "    words.append(word)\n",
        "print(words)\n",
        "print('\\n\\n tokenized and lemmatized document: ')\n",
        "print(preprocess(doc_sample))\n",
        "\n",
        "processed_docs = [preprocess(doc) for doc in corpus]\n",
        "print(processed_docs[0])"
      ],
      "metadata": {
        "colab": {
          "base_uri": "https://localhost:8080/"
        },
        "id": "zgkAPQE_4_gS",
        "outputId": "1d7207f8-7af3-4352-84cb-bb56ebc0ac14"
      },
      "execution_count": 11,
      "outputs": [
        {
          "output_type": "stream",
          "name": "stdout",
          "text": [
            "original document: \n",
            "['', 'with', 'warehouse', 'management', 'systems', 'such', 'as', \"let's\", 'see', 'the', 'RF', 'scanners', \"I've\", 'used', 'them', 'for', 'over', 'a', 'year', \"I've\", 'had', 'plenty', 'of', 'experience', \"I've\", 'been', 'trained', 'to', 'do', 'most', 'of', 'the', 'functions', 'on', 'them', 'other', 'than', 'like', 'some', 'of', 'the', 'more', 'complicated', 'ones', 'most', 'of', 'the', 'functions', 'our', 'church', 'I', 'was', 'trained', 'on', 'with', 'RF', 'scanner', 'were', 'moving', '', 'from', 'one', 'slide', 'to', 'another', 'and', 'or', 'cakey', 'in', 'receiving', 'items', 'and', 'moving', 'them', 'to', 'pallet', 'slots', 'or', 'inputting', 'from', 'a', 'palette', 'slot', 'to', 'a', 'pixel', 'lat', 'my', 'Initiative', 'for', 'learning', 'something', 'new', 'was', 'the', 'simple', 'fact', 'of', '', 'anything', 'I', 'try', 'to', 'learn', 'something', 'new', 'to', 'me', 'I', 'look', 'at', 'it', 'and', 'think', 'about', 'what', 'I', 'can', 'use', 'it', 'for', 'in', 'the', 'future', 'such', 'as', 'customer', 'service', '', 'applications', 'of', 'electronic', 'equipment', 'such', 'as', 'RF', 'scanners', 'the', 'computer', 'database', 'system', 'that', 'the', 'Distribution', 'Center', 'uses', 'say', 'a', 'computer', 'that', 'can', 'handle', 'a', 'multitude', 'of', 'functions', 'I', 'make', 'sure', 'that', 'I', 'base', 'my', 'decisions', 'off', 'of', 'learning', 'something', 'new', 'something', 'that', 'I', 'can', 'use', 'later', 'in', 'life', 'either', 'that', 'being', 'at', 'another', 'job', 'or', 'at', 'home', '', 'helping', 'my', 'family', 'and', 'or', 'my', 'friends', 'would', 'their', 'needs', 'making', 'sure', 'that', 'they', 'understand', 'that', \"it's\", 'more', 'of', 'a', 'personal', 'experience', 'to', 'make', 'sure', 'that', 'the', 'co-worker', 'and', 'or', 'customers', 'needs', 'are', 'satisfied', 'in', 'a', 'timely', 'manner', 'while', 'also', 'following', 'protocol', 'on', 'the', 'topic', 'and', 'are', 'asking', 'more', 'questions', 'to', 'collect', 'further', 'information', 'on', 'said', 'subject', '', \"I'll\", 'make', 'sure', 'to', 'ask', 'the', 'co-worker', 'and', 'or', 'customer', 'about', 'what', 'their', 'needs', 'and', 'from', 'my', 'collection', 'of', 'information', 'that', 'I', 'received', 'from', 'the', 'customer', 'and', 'co-worker', \"I'll\", 'take', 'that', 'and', 'determine', 'the', 'appropriate', 'action', 'that', 'I', 'need', 'to', 'take', 'in', 'order', 'to', 'help', 'that', 'co-worker', 'or', 'customer', 'some', 'ways', 'I', 'would', 'establish', 'credibility', 'and', 'trust', 'with', 'the', 'customer', 'is', 'ask', 'him', 'a', 'few', 'questions', 'kind', 'of', 'sort', 'of', 'get', 'to', 'know', 'them', 'a', 'little', 'also', 'determining', 'what', 'product', 'they', 'may', 'need', 'at', 'that', 'given', 'time', 'of', 'course', 'it', 'could', 'depend', 'on', 'you', 'know', 'if', \"it's\", 'a', 'medical', 'product', 'you', 'know', 'such', 'as', 'a', 'a', '', \"let's\", 'say', 'the', 'portable', 'EKGs', 'they', 'have', 'a', 'computer', 'of', 'a', 'certain', 'type', 'you', 'would', 'also', 'need', 'to', 'ask', 'about', 'you', 'know', 'what', 'type', 'of', 'purpose', 'or', 'what', 'the', 'reason', 'for', 'the', 'product', 'needed', 'or', '', 'you', 'know', 'making', 'sure', 'that', 'you', 'understand', 'their', 'needs', 'and', 'what', 'they', 'want', 'and', 'make', 'sure', 'you', 'understand', 'the', 'reasoning', 'behind', 'those', 'needs', 'my', 'previous', 'work', 'experience', 'is', 'war', 'at', 'Tractor', 'Supply', 'and', 'at', 'the', 'Distribution', 'Center', 'that', \"I'm\", 'applying', 'for', 'my', 'main', 'goal', 'was', 'to', 'get', 'done', 'with', 'college', 'and', 'get', 'my', 'diploma', 'in', 'mechatronic', 'engineering', 'or', 'industrial', 'electrician', 'I', 'have', 'since', 'finished', 'schooling', 'and', 'awaiting', 'my', 'diploma', 'to', 'arrive', '', 'and', 'many', 'things', 'interest', 'me', 'so', 'ology', 'solving', 'puzzles', 'and', 'real', 'life', 'meaning', 'you', 'know', 'you', 'have', 'an', 'item', 'here', 'that', 'needs', 'to', 'get', 'moved', 'somewhere', 'else', 'but', \"it's\", 'complicated', 'to', 'get', 'it', 'there', 'I', 'like', 'having', 'a', 'complicated', 'puzzle', 'to', 'solve', 'as', 'well', 'as', 'working', 'in', 'teams', 'and', 'solving', 'in', 'tow', 'with', 'other', 'people', 'my', 'reason', 'for', 'being', 'excited', 'to', 'work', 'at', 'Best', 'Buy', 'is', 'that', 'I', 'have', 'previous', 'experience', 'and', 'prior', 'knowledge', 'in', 'this', 'career', 'field', 'I', 'was', 'also', 'working', 'in', 'at', 'Best', 'Buy', 'at', 'the', 'distribution', 'center', 'and', 'going', 'to', 'school', 'at', 'the', 'same', 'time', 'but', 'it', 'became', 'hard', 'to', 'balance', 'the', 'two', 'and', 'I', 'had', 'to', 'focus', 'on', 'getting', 'School', 'done']\n",
            "\n",
            "\n",
            " tokenized and lemmatized document: \n",
            "['warehous', 'manag', 'system', 'scanner', 'year', 'plenti', 'experi', 'train', 'function', 'like', 'complic', 'one', 'function', 'church', 'train', 'scanner', 'move', 'slide', 'cakey', 'receiv', 'item', 'move', 'pallet', 'slot', 'input', 'palett', 'slot', 'pixel', 'initi', 'learn', 'simpl', 'fact', 'learn', 'look', 'think', 'futur', 'custom', 'servic', 'applic', 'electron', 'equip', 'scanner', 'databas', 'distribut', 'center', 'use', 'handl', 'multitud', 'function', 'sure', 'base', 'decis', 'learn', 'later', 'life', 'home', 'help', 'famili', 'friend', 'need', 'make', 'sure', 'understand', 'person', 'experi', 'sure', 'worker', 'custom', 'need', 'satisfi', 'time', 'manner', 'follow', 'protocol', 'topic', 'ask', 'question', 'collect', 'inform', 'say', 'subject', 'sure', 'worker', 'custom', 'need', 'collect', 'inform', 'receiv', 'custom', 'worker', 'determin', 'appropri', 'action', 'need', 'order', 'help', 'worker', 'custom', 'way', 'establish', 'credibl', 'trust', 'custom', 'question', 'kind', 'sort', 'know', 'littl', 'determin', 'product', 'need', 'give', 'time', 'cours', 'depend', 'know', 'medic', 'product', 'know', 'portabl', 'ekg', 'certain', 'type', 'need', 'know', 'type', 'purpos', 'reason', 'product', 'need', 'know', 'make', 'sure', 'understand', 'need', 'want', 'sure', 'understand', 'reason', 'need', 'previou', 'work', 'experi', 'tractor', 'suppli', 'distribut', 'center', 'appli', 'main', 'goal', 'colleg', 'diploma', 'mechatron', 'engin', 'industri', 'electrician', 'finish', 'school', 'await', 'diploma', 'arriv', 'thing', 'olog', 'solv', 'puzzl', 'real', 'life', 'mean', 'know', 'item', 'need', 'move', 'complic', 'like', 'have', 'complic', 'puzzl', 'solv', 'work', 'team', 'solv', 'peopl', 'reason', 'excit', 'work', 'best', 'previou', 'experi', 'prior', 'knowledg', 'career', 'field', 'work', 'best', 'distribut', 'center', 'go', 'school', 'time', 'hard', 'balanc', 'focu', 'get', 'school']\n",
            "['warehous', 'manag', 'system', 'scanner', 'year', 'plenti', 'experi', 'train', 'function', 'like', 'complic', 'one', 'function', 'church', 'train', 'scanner', 'move', 'slide', 'cakey', 'receiv', 'item', 'move', 'pallet', 'slot', 'input', 'palett', 'slot', 'pixel', 'initi', 'learn', 'simpl', 'fact', 'learn', 'look', 'think', 'futur', 'custom', 'servic', 'applic', 'electron', 'equip', 'scanner', 'databas', 'distribut', 'center', 'use', 'handl', 'multitud', 'function', 'sure', 'base', 'decis', 'learn', 'later', 'life', 'home', 'help', 'famili', 'friend', 'need', 'make', 'sure', 'understand', 'person', 'experi', 'sure', 'worker', 'custom', 'need', 'satisfi', 'time', 'manner', 'follow', 'protocol', 'topic', 'ask', 'question', 'collect', 'inform', 'say', 'subject', 'sure', 'worker', 'custom', 'need', 'collect', 'inform', 'receiv', 'custom', 'worker', 'determin', 'appropri', 'action', 'need', 'order', 'help', 'worker', 'custom', 'way', 'establish', 'credibl', 'trust', 'custom', 'question', 'kind', 'sort', 'know', 'littl', 'determin', 'product', 'need', 'give', 'time', 'cours', 'depend', 'know', 'medic', 'product', 'know', 'portabl', 'ekg', 'certain', 'type', 'need', 'know', 'type', 'purpos', 'reason', 'product', 'need', 'know', 'make', 'sure', 'understand', 'need', 'want', 'sure', 'understand', 'reason', 'need', 'previou', 'work', 'experi', 'tractor', 'suppli', 'distribut', 'center', 'appli', 'main', 'goal', 'colleg', 'diploma', 'mechatron', 'engin', 'industri', 'electrician', 'finish', 'school', 'await', 'diploma', 'arriv', 'thing', 'olog', 'solv', 'puzzl', 'real', 'life', 'mean', 'know', 'item', 'need', 'move', 'complic', 'like', 'have', 'complic', 'puzzl', 'solv', 'work', 'team', 'solv', 'peopl', 'reason', 'excit', 'work', 'best', 'previou', 'experi', 'prior', 'knowledg', 'career', 'field', 'work', 'best', 'distribut', 'center', 'go', 'school', 'time', 'hard', 'balanc', 'focu', 'get', 'school']\n"
          ]
        }
      ]
    },
    {
      "cell_type": "code",
      "source": [
        "dictionary = gensim.corpora.Dictionary(processed_docs)\n",
        "count = 0\n",
        "for k, v in dictionary.iteritems():\n",
        "    print(k, v)\n",
        "    count += 1\n",
        "    if count > 10:\n",
        "        break"
      ],
      "metadata": {
        "colab": {
          "base_uri": "https://localhost:8080/"
        },
        "id": "YXCJfJK355Zl",
        "outputId": "e18d524f-79ff-4487-dc17-9ddc3d70932f"
      },
      "execution_count": 12,
      "outputs": [
        {
          "output_type": "stream",
          "name": "stdout",
          "text": [
            "0 action\n",
            "1 appli\n",
            "2 applic\n",
            "3 appropri\n",
            "4 arriv\n",
            "5 ask\n",
            "6 await\n",
            "7 balanc\n",
            "8 base\n",
            "9 best\n",
            "10 cakey\n"
          ]
        }
      ]
    },
    {
      "cell_type": "code",
      "source": [
        "dictionary.filter_extremes(no_below=15, no_above=0.5, keep_n=100000)\n",
        "bow_corpus = [dictionary.doc2bow(doc) for doc in processed_docs]\n",
        "print(len(bow_corpus))\n",
        "\n",
        "bow_doc_10 = bow_corpus[10]\n",
        "for i in range(len(bow_doc_10)):\n",
        "    print(\"Word {} (\\\"{}\\\") appears {} time.\".format(bow_doc_10[i][0], \n",
        "                                               dictionary[bow_doc_10[i][0]], bow_doc_10[i][1]))"
      ],
      "metadata": {
        "colab": {
          "base_uri": "https://localhost:8080/"
        },
        "id": "Kqf6oqKg6LqZ",
        "outputId": "cff4d30b-26fd-4022-f07b-bc1e16c5229f"
      },
      "execution_count": 20,
      "outputs": [
        {
          "output_type": "stream",
          "name": "stdout",
          "text": [
            "927\n",
            "Word 5 (\"ask\") appears 2 time.\n",
            "Word 8 (\"career\") appears 2 time.\n",
            "Word 10 (\"certain\") appears 1 time.\n",
            "Word 27 (\"field\") appears 2 time.\n",
            "Word 30 (\"follow\") appears 1 time.\n",
            "Word 31 (\"friend\") appears 1 time.\n",
            "Word 32 (\"function\") appears 1 time.\n",
            "Word 34 (\"get\") appears 3 time.\n",
            "Word 35 (\"give\") appears 2 time.\n",
            "Word 39 (\"have\") appears 1 time.\n",
            "Word 40 (\"home\") appears 2 time.\n",
            "Word 43 (\"initi\") appears 4 time.\n",
            "Word 46 (\"knowledg\") appears 2 time.\n",
            "Word 47 (\"later\") appears 3 time.\n",
            "Word 48 (\"life\") appears 1 time.\n",
            "Word 52 (\"mean\") appears 1 time.\n",
            "Word 56 (\"order\") appears 1 time.\n",
            "Word 67 (\"school\") appears 1 time.\n",
            "Word 68 (\"servic\") appears 1 time.\n",
            "Word 75 (\"team\") appears 6 time.\n",
            "Word 79 (\"type\") appears 1 time.\n",
            "Word 80 (\"understand\") appears 5 time.\n",
            "Word 86 (\"activ\") appears 1 time.\n",
            "Word 89 (\"articl\") appears 1 time.\n",
            "Word 93 (\"build\") appears 3 time.\n",
            "Word 103 (\"earli\") appears 1 time.\n",
            "Word 106 (\"enjoy\") appears 1 time.\n",
            "Word 112 (\"gain\") appears 1 time.\n",
            "Word 121 (\"morn\") appears 2 time.\n",
            "Word 123 (\"normal\") appears 1 time.\n",
            "Word 125 (\"older\") appears 2 time.\n",
            "Word 126 (\"onlin\") appears 1 time.\n",
            "Word 128 (\"pace\") appears 1 time.\n",
            "Word 131 (\"phone\") appears 2 time.\n",
            "Word 141 (\"research\") appears 2 time.\n",
            "Word 144 (\"show\") appears 1 time.\n",
            "Word 150 (\"test\") appears 3 time.\n",
            "Word 161 (\"bring\") appears 7 time.\n",
            "Word 167 (\"creat\") appears 1 time.\n",
            "Word 168 (\"current\") appears 1 time.\n",
            "Word 169 (\"definit\") appears 6 time.\n",
            "Word 170 (\"develop\") appears 1 time.\n",
            "Word 171 (\"devic\") appears 4 time.\n",
            "Word 172 (\"differ\") appears 2 time.\n",
            "Word 188 (\"hardwar\") appears 1 time.\n",
            "Word 189 (\"high\") appears 1 time.\n",
            "Word 191 (\"hope\") appears 1 time.\n",
            "Word 203 (\"note\") appears 1 time.\n",
            "Word 209 (\"possibl\") appears 1 time.\n",
            "Word 213 (\"program\") appears 1 time.\n",
            "Word 217 (\"respons\") appears 1 time.\n",
            "Word 218 (\"run\") appears 1 time.\n",
            "Word 222 (\"softwar\") appears 2 time.\n",
            "Word 224 (\"specif\") appears 1 time.\n",
            "Word 225 (\"stay\") appears 1 time.\n",
            "Word 226 (\"stop\") appears 1 time.\n",
            "Word 230 (\"task\") appears 6 time.\n",
            "Word 232 (\"usual\") appears 1 time.\n",
            "Word 243 (\"chang\") appears 1 time.\n",
            "Word 247 (\"complet\") appears 3 time.\n",
            "Word 252 (\"date\") appears 1 time.\n",
            "Word 253 (\"day\") appears 1 time.\n",
            "Word 260 (\"great\") appears 1 time.\n",
            "Word 266 (\"includ\") appears 1 time.\n",
            "Word 268 (\"iphon\") appears 1 time.\n",
            "Word 271 (\"latest\") appears 1 time.\n",
            "Word 273 (\"mayb\") appears 4 time.\n",
            "Word 274 (\"member\") appears 1 time.\n",
            "Word 276 (\"minut\") appears 1 time.\n",
            "Word 280 (\"okay\") appears 1 time.\n",
            "Word 282 (\"place\") appears 1 time.\n",
            "Word 289 (\"rememb\") appears 1 time.\n",
            "Word 294 (\"sign\") appears 1 time.\n",
            "Word 300 (\"take\") appears 2 time.\n",
            "Word 301 (\"teach\") appears 1 time.\n",
            "Word 303 (\"video\") appears 1 time.\n",
            "Word 305 (\"write\") appears 3 time.\n",
            "Word 306 (\"account\") appears 2 time.\n",
            "Word 308 (\"appl\") appears 7 time.\n",
            "Word 314 (\"bunch\") appears 1 time.\n",
            "Word 315 (\"busi\") appears 1 time.\n",
            "Word 316 (\"care\") appears 1 time.\n",
            "Word 320 (\"coupl\") appears 2 time.\n",
            "Word 326 (\"easier\") appears 1 time.\n",
            "Word 337 (\"grow\") appears 1 time.\n",
            "Word 338 (\"guy\") appears 4 time.\n",
            "Word 339 (\"hand\") appears 1 time.\n",
            "Word 341 (\"happi\") appears 1 time.\n",
            "Word 352 (\"merchandis\") appears 1 time.\n",
            "Word 353 (\"moment\") appears 1 time.\n",
            "Word 358 (\"provid\") appears 2 time.\n",
            "Word 360 (\"reach\") appears 1 time.\n",
            "Word 362 (\"return\") appears 2 time.\n",
            "Word 367 (\"share\") appears 1 time.\n",
            "Word 368 (\"shift\") appears 2 time.\n",
            "Word 387 (\"youtub\") appears 2 time.\n",
            "Word 388 (\"actual\") appears 12 time.\n",
            "Word 393 (\"familiar\") appears 1 time.\n",
            "Word 395 (\"graduat\") appears 1 time.\n",
            "Word 398 (\"ipad\") appears 4 time.\n",
            "Word 400 (\"origin\") appears 1 time.\n",
            "Word 402 (\"role\") appears 8 time.\n",
            "Word 404 (\"schedul\") appears 2 time.\n",
            "Word 408 (\"store\") appears 5 time.\n",
            "Word 412 (\"watch\") appears 1 time.\n",
            "Word 414 (\"area\") appears 3 time.\n",
            "Word 420 (\"email\") appears 6 time.\n",
            "Word 425 (\"leav\") appears 4 time.\n",
            "Word 427 (\"market\") appears 3 time.\n",
            "Word 436 (\"pull\") appears 1 time.\n",
            "Word 437 (\"purchas\") appears 1 time.\n",
            "Word 440 (\"send\") appears 1 time.\n",
            "Word 446 (\"user\") appears 1 time.\n",
            "Word 448 (\"yeah\") appears 6 time.\n",
            "Word 449 (\"ahead\") appears 1 time.\n",
            "Word 456 (\"everyday\") appears 1 time.\n",
            "Word 464 (\"notic\") appears 1 time.\n",
            "Word 477 (\"wait\") appears 1 time.\n",
            "Word 495 (\"supervisor\") appears 3 time.\n",
            "Word 496 (\"wouldn\") appears 1 time.\n",
            "Word 511 (\"cool\") appears 1 time.\n",
            "Word 512 (\"correctli\") appears 1 time.\n",
            "Word 516 (\"display\") appears 1 time.\n",
            "Word 518 (\"drive\") appears 1 time.\n",
            "Word 523 (\"floor\") appears 1 time.\n",
            "Word 561 (\"walk\") appears 2 time.\n",
            "Word 563 (\"wasn\") appears 2 time.\n",
            "Word 566 (\"android\") appears 1 time.\n",
            "Word 567 (\"appreci\") appears 2 time.\n",
            "Word 568 (\"board\") appears 1 time.\n",
            "Word 569 (\"book\") appears 1 time.\n",
            "Word 570 (\"buy\") appears 1 time.\n",
            "Word 571 (\"case\") appears 1 time.\n",
            "Word 572 (\"color\") appears 1 time.\n",
            "Word 573 (\"crazi\") appears 1 time.\n",
            "Word 574 (\"daili\") appears 1 time.\n",
            "Word 575 (\"deep\") appears 2 time.\n",
            "Word 576 (\"desktop\") appears 1 time.\n",
            "Word 577 (\"earlier\") appears 2 time.\n",
            "Word 578 (\"except\") appears 1 time.\n",
            "Word 579 (\"explor\") appears 1 time.\n",
            "Word 580 (\"faster\") appears 1 time.\n",
            "Word 581 (\"feedback\") appears 1 time.\n",
            "Word 582 (\"fresh\") appears 1 time.\n",
            "Word 583 (\"galaxi\") appears 1 time.\n",
            "Word 584 (\"guid\") appears 2 time.\n",
            "Word 585 (\"hour\") appears 1 time.\n",
            "Word 586 (\"huge\") appears 1 time.\n",
            "Word 587 (\"imag\") appears 1 time.\n",
            "Word 588 (\"incorpor\") appears 1 time.\n",
            "Word 589 (\"instruct\") appears 1 time.\n",
            "Word 590 (\"list\") appears 2 time.\n",
            "Word 591 (\"long\") appears 1 time.\n",
            "Word 592 (\"mention\") appears 1 time.\n",
            "Word 593 (\"messag\") appears 1 time.\n",
            "Word 594 (\"newest\") appears 1 time.\n",
            "Word 595 (\"overtim\") appears 1 time.\n",
            "Word 596 (\"own\") appears 1 time.\n",
            "Word 597 (\"passion\") appears 1 time.\n",
            "Word 598 (\"password\") appears 6 time.\n",
            "Word 599 (\"platform\") appears 1 time.\n",
            "Word 600 (\"push\") appears 1 time.\n",
            "Word 601 (\"race\") appears 1 time.\n",
            "Word 602 (\"remot\") appears 2 time.\n",
            "Word 603 (\"repeat\") appears 1 time.\n",
            "Word 604 (\"retail\") appears 3 time.\n",
            "Word 605 (\"review\") appears 1 time.\n",
            "Word 606 (\"rout\") appears 1 time.\n",
            "Word 607 (\"samsung\") appears 2 time.\n",
            "Word 608 (\"screen\") appears 1 time.\n",
            "Word 609 (\"soon\") appears 1 time.\n",
            "Word 610 (\"sorri\") appears 1 time.\n",
            "Word 611 (\"speed\") appears 1 time.\n",
            "Word 612 (\"technician\") appears 1 time.\n",
            "Word 613 (\"till\") appears 1 time.\n",
            "Word 614 (\"today\") appears 2 time.\n",
            "Word 615 (\"travel\") appears 1 time.\n",
            "Word 616 (\"ultim\") appears 1 time.\n",
            "Word 617 (\"websit\") appears 2 time.\n",
            "Word 618 (\"weekend\") appears 1 time.\n",
            "Word 619 (\"window\") appears 1 time.\n"
          ]
        }
      ]
    },
    {
      "cell_type": "code",
      "source": [
        "from gensim import corpora, models\n",
        "tfidf = models.TfidfModel(bow_corpus)\n",
        "corpus_tfidf = tfidf[bow_corpus]\n",
        "from pprint import pprint\n",
        "for doc in corpus_tfidf:\n",
        "    pprint(doc)\n",
        "    break"
      ],
      "metadata": {
        "colab": {
          "base_uri": "https://localhost:8080/"
        },
        "id": "Tdc2XGIr733n",
        "outputId": "329c56b9-3ec4-44dd-9bff-602bc94b5fc6"
      },
      "execution_count": 22,
      "outputs": [
        {
          "output_type": "stream",
          "name": "stdout",
          "text": [
            "[(0, 0.09228620446161498),\n",
            " (1, 0.06312257899318931),\n",
            " (2, 0.09156118576545902),\n",
            " (3, 0.10382662869668012),\n",
            " (4, 0.11573180004869624),\n",
            " (5, 0.02388169575330429),\n",
            " (6, 0.11573180004869624),\n",
            " (7, 0.050857136061968185),\n",
            " (8, 0.059066241175054775),\n",
            " (9, 0.23684540327716644),\n",
            " (10, 0.042770554141443894),\n",
            " (11, 0.104934751350226),\n",
            " (12, 0.18457240892322996),\n",
            " (13, 0.05592535090437536),\n",
            " (14, 0.3424328729578433),\n",
            " (15, 0.050324884049593524),\n",
            " (16, 0.0542707292059491),\n",
            " (17, 0.08882788660932817),\n",
            " (18, 0.05176624166411207),\n",
            " (19, 0.1085414584118982),\n",
            " (20, 0.3379146879400812),\n",
            " (21, 0.0420986308762586),\n",
            " (22, 0.08458272649848059),\n",
            " (23, 0.0705016142593262),\n",
            " (24, 0.0476385074209489),\n",
            " (25, 0.06719906210564801),\n",
            " (26, 0.0420986308762586),\n",
            " (27, 0.060274714840865724),\n",
            " (28, 0.041966071891168605),\n",
            " (29, 0.06981071731637198),\n",
            " (30, 0.055086386248110235),\n",
            " (31, 0.035786867105320405),\n",
            " (32, 0.30219917388403283),\n",
            " (33, 0.059066241175054775),\n",
            " (34, 0.021219923466469295),\n",
            " (35, 0.03023777917843186),\n",
            " (36, 0.033818322152752066),\n",
            " (37, 0.05954367877296502),\n",
            " (38, 0.041834108678808365),\n",
            " (39, 0.027771812054091943),\n",
            " (40, 0.03654673338389647),\n",
            " (41, 0.07585489702371964),\n",
            " (42, 0.07397987651343932),\n",
            " (43, 0.04747849740464606),\n",
            " (44, 0.09537977519695083),\n",
            " (45, 0.105408794078826),\n",
            " (46, 0.03979957968161007),\n",
            " (47, 0.059785340757124446),\n",
            " (48, 0.07030169464045766),\n",
            " (49, 0.05657069040556665),\n",
            " (50, 0.05084323371070199),\n",
            " (51, 0.07585489702371964),\n",
            " (52, 0.029021437465007294),\n",
            " (53, 0.11120566396281702),\n",
            " (54, 0.15203593361300874),\n",
            " (55, 0.07193417960986959),\n",
            " (56, 0.0391916539212196),\n",
            " (57, 0.09705804713050648),\n",
            " (58, 0.0997702908785456),\n",
            " (59, 0.11581109192871172),\n",
            " (60, 0.09883809304923763),\n",
            " (61, 0.104934751350226),\n",
            " (62, 0.06783052225639147),\n",
            " (63, 0.14486223786959446),\n",
            " (64, 0.12358753114307913),\n",
            " (65, 0.07941826602680019),\n",
            " (66, 0.3471954001460887),\n",
            " (67, 0.1026657799696172),\n",
            " (68, 0.022013533002187575),\n",
            " (69, 0.06394972567170354),\n",
            " (70, 0.12354913523608621),\n",
            " (71, 0.05308821643071153),\n",
            " (72, 0.11120566396281702),\n",
            " (73, 0.09793458282878303),\n",
            " (74, 0.07543841109985565),\n",
            " (75, 0.02633924670354856),\n",
            " (76, 0.09302957999820989),\n",
            " (77, 0.1081406136428617),\n",
            " (78, 0.0391916539212196),\n",
            " (79, 0.07265522943056911),\n",
            " (80, 0.0785529089740304),\n",
            " (81, 0.08515287577849036),\n",
            " (82, 0.06597547817344696),\n",
            " (83, 0.040170470069914276)]\n"
          ]
        }
      ]
    },
    {
      "cell_type": "code",
      "source": [
        "lda_model = gensim.models.LdaMulticore(bow_corpus, num_topics=10, id2word=dictionary, passes=2, workers=2)"
      ],
      "metadata": {
        "colab": {
          "base_uri": "https://localhost:8080/"
        },
        "id": "BjGi9s8t8hgJ",
        "outputId": "1adce158-6721-4f92-9153-f93517e0ea0f"
      },
      "execution_count": 23,
      "outputs": [
        {
          "output_type": "stream",
          "name": "stderr",
          "text": [
            "WARNING:gensim.models.ldamulticore:too few updates, training might not converge; consider increasing the number of passes or iterations to improve accuracy\n"
          ]
        }
      ]
    },
    {
      "cell_type": "code",
      "source": [
        "for idx, topic in lda_model.print_topics(-1):\n",
        "    print('Topic: {} \\nWords: {}'.format(idx, topic))"
      ],
      "metadata": {
        "colab": {
          "base_uri": "https://localhost:8080/"
        },
        "id": "84DPYyRp8tQP",
        "outputId": "5eb56f81-0062-491a-b535-945713e5aa2a"
      },
      "execution_count": 24,
      "outputs": [
        {
          "output_type": "stream",
          "name": "stdout",
          "text": [
            "Topic: 0 \n",
            "Words: 0.014*\"phone\" + 0.009*\"task\" + 0.009*\"mean\" + 0.008*\"ask\" + 0.008*\"take\" + 0.008*\"speak\" + 0.008*\"understand\" + 0.007*\"actual\" + 0.007*\"yeah\" + 0.007*\"pretti\"\n",
            "Topic: 1 \n",
            "Words: 0.014*\"probabl\" + 0.012*\"phone\" + 0.012*\"actual\" + 0.011*\"differ\" + 0.010*\"task\" + 0.008*\"yeah\" + 0.008*\"goal\" + 0.008*\"comput\" + 0.007*\"play\" + 0.007*\"get\"\n",
            "Topic: 2 \n",
            "Words: 0.010*\"store\" + 0.010*\"understand\" + 0.009*\"differ\" + 0.009*\"servic\" + 0.008*\"great\" + 0.008*\"team\" + 0.008*\"basic\" + 0.008*\"take\" + 0.007*\"situat\" + 0.007*\"pretti\"\n",
            "Topic: 3 \n",
            "Words: 0.013*\"actual\" + 0.013*\"yeah\" + 0.012*\"team\" + 0.011*\"definit\" + 0.009*\"goal\" + 0.008*\"phone\" + 0.008*\"servic\" + 0.008*\"get\" + 0.008*\"speak\" + 0.007*\"differ\"\n",
            "Topic: 4 \n",
            "Words: 0.015*\"actual\" + 0.011*\"yeah\" + 0.010*\"understand\" + 0.009*\"make\" + 0.009*\"phone\" + 0.009*\"issu\" + 0.008*\"enjoy\" + 0.007*\"differ\" + 0.007*\"problem\" + 0.007*\"usual\"\n",
            "Topic: 5 \n",
            "Words: 0.011*\"pretti\" + 0.011*\"yeah\" + 0.010*\"store\" + 0.008*\"ask\" + 0.008*\"stay\" + 0.008*\"comput\" + 0.007*\"get\" + 0.007*\"problem\" + 0.007*\"understand\" + 0.007*\"listen\"\n",
            "Topic: 6 \n",
            "Words: 0.010*\"differ\" + 0.009*\"problem\" + 0.009*\"phone\" + 0.008*\"mayb\" + 0.008*\"store\" + 0.008*\"import\" + 0.007*\"play\" + 0.007*\"take\" + 0.007*\"get\" + 0.007*\"favorit\"\n",
            "Topic: 7 \n",
            "Words: 0.012*\"differ\" + 0.011*\"actual\" + 0.010*\"servic\" + 0.009*\"basic\" + 0.008*\"yeah\" + 0.008*\"store\" + 0.007*\"video\" + 0.007*\"phone\" + 0.007*\"team\" + 0.007*\"listen\"\n",
            "Topic: 8 \n",
            "Words: 0.013*\"actual\" + 0.012*\"yeah\" + 0.010*\"differ\" + 0.008*\"take\" + 0.008*\"make\" + 0.008*\"great\" + 0.007*\"play\" + 0.007*\"mayb\" + 0.007*\"guess\" + 0.007*\"phone\"\n",
            "Topic: 9 \n",
            "Words: 0.010*\"phone\" + 0.009*\"differ\" + 0.008*\"build\" + 0.008*\"yeah\" + 0.007*\"order\" + 0.007*\"truck\" + 0.007*\"actual\" + 0.007*\"situat\" + 0.006*\"team\" + 0.006*\"okay\"\n"
          ]
        }
      ]
    },
    {
      "cell_type": "code",
      "source": [
        "lda_model_tfidf = gensim.models.LdaMulticore(corpus_tfidf, num_topics=10, id2word=dictionary, passes=2, workers=4)\n",
        "for idx, topic in lda_model_tfidf.print_topics(-1):\n",
        "    print('Topic: {} Word: {}'.format(idx, topic))"
      ],
      "metadata": {
        "colab": {
          "base_uri": "https://localhost:8080/"
        },
        "id": "Sekb-EOe9J0m",
        "outputId": "325ef98a-94fd-4705-8c79-c74d7fa40410"
      },
      "execution_count": 25,
      "outputs": [
        {
          "output_type": "stream",
          "name": "stderr",
          "text": [
            "WARNING:gensim.models.ldamulticore:too few updates, training might not converge; consider increasing the number of passes or iterations to improve accuracy\n"
          ]
        },
        {
          "output_type": "stream",
          "name": "stdout",
          "text": [
            "Topic: 0 Word: 0.004*\"languag\" + 0.004*\"speak\" + 0.004*\"translat\" + 0.004*\"actual\" + 0.003*\"probabl\" + 0.003*\"team\" + 0.003*\"yeah\" + 0.003*\"problem\" + 0.003*\"build\" + 0.003*\"phone\"\n",
            "Topic: 1 Word: 0.005*\"consol\" + 0.004*\"basic\" + 0.003*\"order\" + 0.003*\"problem\" + 0.003*\"pick\" + 0.003*\"internet\" + 0.003*\"pretti\" + 0.003*\"electron\" + 0.003*\"credit\" + 0.003*\"phone\"\n",
            "Topic: 2 Word: 0.004*\"yeah\" + 0.004*\"iphon\" + 0.004*\"phone\" + 0.003*\"target\" + 0.003*\"okay\" + 0.003*\"take\" + 0.003*\"video\" + 0.003*\"actual\" + 0.003*\"forklift\" + 0.003*\"depot\"\n",
            "Topic: 3 Word: 0.004*\"goal\" + 0.004*\"task\" + 0.003*\"store\" + 0.003*\"truck\" + 0.003*\"listen\" + 0.003*\"complet\" + 0.003*\"electron\" + 0.003*\"enjoy\" + 0.003*\"believ\" + 0.003*\"import\"\n",
            "Topic: 4 Word: 0.004*\"enjoy\" + 0.004*\"understand\" + 0.004*\"differ\" + 0.003*\"mean\" + 0.003*\"team\" + 0.003*\"actual\" + 0.003*\"posit\" + 0.003*\"interest\" + 0.003*\"everybodi\" + 0.003*\"issu\"\n",
            "Topic: 5 Word: 0.004*\"everybodi\" + 0.003*\"actual\" + 0.003*\"yeah\" + 0.003*\"comput\" + 0.003*\"task\" + 0.003*\"electron\" + 0.003*\"great\" + 0.003*\"store\" + 0.003*\"differ\" + 0.003*\"opportun\"\n",
            "Topic: 6 Word: 0.004*\"understand\" + 0.004*\"sell\" + 0.004*\"commun\" + 0.003*\"leav\" + 0.003*\"phone\" + 0.003*\"play\" + 0.003*\"electron\" + 0.003*\"yeah\" + 0.003*\"task\" + 0.003*\"differ\"\n",
            "Topic: 7 Word: 0.004*\"warehous\" + 0.004*\"actual\" + 0.004*\"listen\" + 0.003*\"team\" + 0.003*\"differ\" + 0.003*\"understand\" + 0.003*\"clean\" + 0.003*\"yeah\" + 0.003*\"answer\" + 0.003*\"organ\"\n",
            "Topic: 8 Word: 0.005*\"definit\" + 0.004*\"differ\" + 0.004*\"listen\" + 0.004*\"yeah\" + 0.004*\"basic\" + 0.004*\"phone\" + 0.003*\"store\" + 0.003*\"mayb\" + 0.003*\"make\" + 0.003*\"specif\"\n",
            "Topic: 9 Word: 0.005*\"definit\" + 0.005*\"appl\" + 0.004*\"samsung\" + 0.004*\"challeng\" + 0.004*\"mayb\" + 0.004*\"goal\" + 0.003*\"understand\" + 0.003*\"feedback\" + 0.003*\"languag\" + 0.003*\"team\"\n"
          ]
        }
      ]
    }
  ]
}