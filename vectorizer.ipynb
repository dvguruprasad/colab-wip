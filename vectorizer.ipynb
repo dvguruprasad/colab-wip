{
  "nbformat": 4,
  "nbformat_minor": 0,
  "metadata": {
    "colab": {
      "provenance": [],
      "include_colab_link": true
    },
    "kernelspec": {
      "name": "python3",
      "display_name": "Python 3"
    },
    "language_info": {
      "name": "python"
    }
  },
  "cells": [
    {
      "cell_type": "markdown",
      "metadata": {
        "id": "view-in-github",
        "colab_type": "text"
      },
      "source": [
        "<a href=\"https://colab.research.google.com/github/dvguruprasad/colab-wip/blob/main/vectorizer.ipynb\" target=\"_parent\"><img src=\"https://colab.research.google.com/assets/colab-badge.svg\" alt=\"Open In Colab\"/></a>"
      ]
    },
    {
      "cell_type": "code",
      "execution_count": null,
      "metadata": {
        "id": "C1aENXVKa8Oh"
      },
      "outputs": [],
      "source": [
        "from sklearn.feature_extraction.text import TfidfVectorizer,CountVectorizer\n",
        "import pandas as pd\n",
        "\n",
        "\n",
        "# set of documents\n",
        "train = ['The sky is blue.','The sun is bright.']\n",
        "test = ['The sun in the sky is bright', 'We can see the shining sun, the bright sun.']\n",
        "# instantiate the vectorizer object\n",
        "countvectorizer = CountVectorizer(analyzer= 'word', stop_words='english')\n",
        "tfidfvectorizer = TfidfVectorizer(analyzer='word',stop_words= 'english')\n",
        "\n",
        "# convert th documents into a matrix\n",
        "count_wm = countvectorizer.fit_transform(train)\n",
        "tfidf_wm = tfidfvectorizer.fit_transform(train)\n",
        "\n",
        "\n",
        "#count_tokens = tfidfvectorizer.get_feature_names() # no difference\n",
        "count_tokens = countvectorizer.get_feature_names()\n",
        "tfidf_tokens = tfidfvectorizer.get_feature_names()\n",
        "df_countvect = pd.DataFrame(data = count_wm.toarray(),index = ['Doc1','Doc2'],columns = count_tokens)\n",
        "df_tfidfvect = pd.DataFrame(data = tfidf_wm.toarray(),index = ['Doc1','Doc2'],columns = tfidf_tokens)\n",
        "\n",
        "print(\"Count Vectorizer\\n\")\n",
        "print(df_countvect)\n",
        "print(\"\\nTD-IDF Vectorizer\\n\")\n",
        "print(df_tfidfvect)"
      ]
    },
    {
      "cell_type": "code",
      "source": [
        "# set of documents\n",
        "train = ['The sky is blue.','The sun is bright.']\n",
        "test = ['The sun in the sky is bright', 'We can see the shining sun, the bright sun.']\n",
        "# instantiate the vectorizer object\n",
        "countvectorizer = CountVectorizer(analyzer= 'word', stop_words='english')\n",
        "tfidfvectorizer = TfidfVectorizer(analyzer='word',stop_words= 'english')"
      ],
      "metadata": {
        "id": "EXbBb5JibFrm"
      },
      "execution_count": null,
      "outputs": []
    },
    {
      "cell_type": "code",
      "source": [
        "# convert th documents into a matrix\n",
        "count_wm = countvectorizer.fit_transform(train)\n",
        "tfidf_wm = tfidfvectorizer.fit_transform(train)"
      ],
      "metadata": {
        "id": "0BUfnvjBbKNq"
      },
      "execution_count": null,
      "outputs": []
    },
    {
      "cell_type": "code",
      "source": [
        "count_wm"
      ],
      "metadata": {
        "colab": {
          "base_uri": "https://localhost:8080/"
        },
        "id": "EkmCSEpsbR0_",
        "outputId": "081be222-62f6-40c6-d8da-ea27708e19f5"
      },
      "execution_count": null,
      "outputs": [
        {
          "output_type": "execute_result",
          "data": {
            "text/plain": [
              "<2x4 sparse matrix of type '<class 'numpy.int64'>'\n",
              "\twith 4 stored elements in Compressed Sparse Row format>"
            ]
          },
          "metadata": {},
          "execution_count": 5
        }
      ]
    },
    {
      "cell_type": "code",
      "source": [
        "tfidf_wm"
      ],
      "metadata": {
        "colab": {
          "base_uri": "https://localhost:8080/"
        },
        "id": "irwA7wBXbTAZ",
        "outputId": "dad8182d-f6bb-4a07-e664-f5482642fb55"
      },
      "execution_count": null,
      "outputs": [
        {
          "output_type": "execute_result",
          "data": {
            "text/plain": [
              "<2x4 sparse matrix of type '<class 'numpy.float64'>'\n",
              "\twith 4 stored elements in Compressed Sparse Row format>"
            ]
          },
          "metadata": {},
          "execution_count": 6
        }
      ]
    },
    {
      "cell_type": "code",
      "source": [
        "#count_tokens = tfidfvectorizer.get_feature_names() # no difference\n",
        "count_tokens = countvectorizer.get_feature_names()\n",
        "tfidf_tokens = tfidfvectorizer.get_feature_names()\n",
        "df_countvect = pd.DataFrame(data = count_wm.toarray(),index = ['Doc1','Doc2'],columns = count_tokens)\n",
        "df_tfidfvect = pd.DataFrame(data = tfidf_wm.toarray(),index = ['Doc1','Doc2'],columns = tfidf_tokens)\n"
      ],
      "metadata": {
        "colab": {
          "base_uri": "https://localhost:8080/"
        },
        "id": "yKEVbTDobXn7",
        "outputId": "207488e3-a1e0-44cc-cc8d-c454157db991"
      },
      "execution_count": null,
      "outputs": [
        {
          "output_type": "stream",
          "name": "stderr",
          "text": [
            "/usr/local/lib/python3.7/dist-packages/sklearn/utils/deprecation.py:87: FutureWarning: Function get_feature_names is deprecated; get_feature_names is deprecated in 1.0 and will be removed in 1.2. Please use get_feature_names_out instead.\n",
            "  warnings.warn(msg, category=FutureWarning)\n"
          ]
        }
      ]
    },
    {
      "cell_type": "code",
      "source": [
        "print(\"Count Vectorizer\\n\")\n",
        "print(df_countvect)\n",
        "print(\"\\nTD-IDF Vectorizer\\n\")\n",
        "print(df_tfidfvect)"
      ],
      "metadata": {
        "colab": {
          "base_uri": "https://localhost:8080/"
        },
        "id": "VoY12l_ebgz9",
        "outputId": "82deb811-7eb1-4263-a38e-65e2a5299903"
      },
      "execution_count": null,
      "outputs": [
        {
          "output_type": "stream",
          "name": "stdout",
          "text": [
            "Count Vectorizer\n",
            "\n",
            "      blue  bright  sky  sun\n",
            "Doc1     1       0    1    0\n",
            "Doc2     0       1    0    1\n",
            "\n",
            "TD-IDF Vectorizer\n",
            "\n",
            "          blue    bright       sky       sun\n",
            "Doc1  0.707107  0.000000  0.707107  0.000000\n",
            "Doc2  0.000000  0.707107  0.000000  0.707107\n"
          ]
        }
      ]
    },
    {
      "cell_type": "code",
      "source": [
        "import numpy as np\n",
        "\n",
        "from matplotlib import pyplot as plt\n",
        "from scipy.cluster.hierarchy import dendrogram\n",
        "from sklearn.datasets import load_iris\n",
        "from sklearn.cluster import AgglomerativeClustering\n",
        "\n",
        "\n",
        "def plot_dendrogram(model, **kwargs):\n",
        "    # Create linkage matrix and then plot the dendrogram\n",
        "\n",
        "    # create the counts of samples under each node\n",
        "    counts = np.zeros(model.children_.shape[0])\n",
        "    n_samples = len(model.labels_)\n",
        "    for i, merge in enumerate(model.children_):\n",
        "        current_count = 0\n",
        "        for child_idx in merge:\n",
        "            if child_idx < n_samples:\n",
        "                current_count += 1  # leaf node\n",
        "            else:\n",
        "                current_count += counts[child_idx - n_samples]\n",
        "        counts[i] = current_count\n",
        "\n",
        "    linkage_matrix = np.column_stack(\n",
        "        [model.children_, model.distances_, counts]\n",
        "    ).astype(float)\n",
        "\n",
        "    # Plot the corresponding dendrogram\n",
        "    dendrogram(linkage_matrix, **kwargs)\n",
        "\n",
        "\n",
        "iris = load_iris()\n",
        "X = iris.data\n",
        "\n",
        "# setting distance_threshold=0 ensures we compute the full tree.\n",
        "model = AgglomerativeClustering(distance_threshold=0, n_clusters=None)\n",
        "\n",
        "model = model.fit(X)\n",
        "plt.title(\"Hierarchical Clustering Dendrogram\")\n",
        "# plot the top three levels of the dendrogram\n",
        "plot_dendrogram(model, truncate_mode=\"level\", p=3)\n",
        "plt.xlabel(\"Number of points in node (or index of point if no parenthesis).\")\n",
        "plt.show()"
      ],
      "metadata": {
        "colab": {
          "base_uri": "https://localhost:8080/",
          "height": 298
        },
        "id": "VBZSHfqPi13K",
        "outputId": "80f3d26a-14f3-4e6b-e158-d97d46f9b274"
      },
      "execution_count": null,
      "outputs": [
        {
          "output_type": "display_data",
          "data": {
            "text/plain": [
              "<Figure size 432x288 with 1 Axes>"
            ],
            "image/png": "[encoded data removed]"
          },
          "metadata": {
            "needs_background": "light"
          }
        }
      ]
    },
    {
      "cell_type": "code",
      "source": [],
      "metadata": {
        "id": "Flwy4IJFnlFT"
      },
      "execution_count": null,
      "outputs": []
    },
    {
      "cell_type": "code",
      "source": [],
      "metadata": {
        "id": "ofPn5s5nnlIL"
      },
      "execution_count": null,
      "outputs": []
    },
    {
      "cell_type": "code",
      "source": [
        "import os, json\n",
        "import pandas as pd\n",
        "path_to_json = '/content/1080/'\n",
        "json_1080 = [pos_json for pos_json in os.listdir(path_to_json) if pos_json.endswith('.json')]\n",
        "\n"
      ],
      "metadata": {
        "id": "tMUO8PXenlLh"
      },
      "execution_count": null,
      "outputs": []
    },
    {
      "cell_type": "code",
      "source": [
        "path_to_json = '/content/663/'\n",
        "json_663 = [pos_json for pos_json in os.listdir(path_to_json) if pos_json.endswith('.json')]"
      ],
      "metadata": {
        "id": "wG8HwHyWpLvN"
      },
      "execution_count": null,
      "outputs": []
    },
    {
      "cell_type": "code",
      "source": [
        "def read_json(input_file_path):\n",
        "  with open(input_file_path, \"r\") as f:\n",
        "    return json.load(f)"
      ],
      "metadata": {
        "id": "MC2IU0RgpYal"
      },
      "execution_count": null,
      "outputs": []
    },
    {
      "cell_type": "code",
      "source": [
        "texts_hcl = [read_json(path_to_json + jf)[\"text\"] for jf in json_663]"
      ],
      "metadata": {
        "id": "KvNCZv46pYdY"
      },
      "execution_count": null,
      "outputs": []
    },
    {
      "cell_type": "code",
      "source": [
        "texts_bb = [read_json(path_to_json + jf)[\"text\"] for jf in json_1080]"
      ],
      "metadata": {
        "id": "URvvY7wynlM-"
      },
      "execution_count": null,
      "outputs": []
    },
    {
      "cell_type": "code",
      "source": [
        "import csv \n",
        "\n",
        "all_data=[]\n",
        "with open('/content/query_result_2022-08-24T07_22_23.39294Z.csv', mode='r') as csv_file:\n",
        "  csv_reader = csv.DictReader(csv_file)\n",
        "  for row in csv_reader:\n",
        "    all_data.append(row)\n",
        "  all_data = all_data[1:]\n",
        "\n",
        "all = [i['data'] for i in all_data]\n",
        "not_recommended = [i['data'] for i in all_data if i['recommendation'] == 'Not Recommended']\n",
        "recommended = [i['data'] for i in all_data if i['recommendation'] == 'Recommended']\n",
        "\n",
        "corpus = all\n",
        "\n",
        "c = len(corpus)\n",
        "train = corpus[int(c/3):]\n",
        "test = corpus[:int(c/3)]\n",
        "print(f\"number of documents {c}, number train: {len(train)}, number test: {len(test)}\")"
      ],
      "metadata": {
        "id": "4AyakjeOnlPa",
        "outputId": "ea257d19-5d02-449b-bc94-3139e7a0f88d",
        "colab": {
          "base_uri": "https://localhost:8080/"
        }
      },
      "execution_count": 38,
      "outputs": [
        {
          "output_type": "stream",
          "name": "stdout",
          "text": [
            "number of documents 2809, number train: 1873, number test: 936\n"
          ]
        }
      ]
    },
    {
      "cell_type": "code",
      "source": [
        "from sklearn.feature_extraction.text import TfidfVectorizer,CountVectorizer\n",
        "import pandas as pd\n",
        "import nltk\n",
        "import re\n",
        "nltk.download('punkt')\n",
        "from nltk import regexp_tokenize\n",
        "from nltk.stem.porter import PorterStemmer\n",
        "stemmer = PorterStemmer()\n",
        "\n",
        "speacial_characters_pattern = re.compile('^[\"+-@_!#$%^&*()<>?/\\|}{~:]$')\n",
        "def tokenize(text):\n",
        "  tokens = regexp_tokenize(text, pattern=r\"\\s|[\\.,;\\d\\$\\%']\", gaps=True)\n",
        "  stems = []\n",
        "  for item in tokens:\n",
        "      if not speacial_characters_pattern.search(item):\n",
        "        stems.append(stemmer.stem(item))\n",
        "  return stems\n",
        "\n",
        "# set of documents\n",
        "#train = texts_hcl\n",
        "#test = texts_bb\n",
        "# instantiate the vectorizer object\n",
        "\n",
        "tfidfvectorizer = TfidfVectorizer(tokenizer=tokenize, analyzer='word', stop_words= 'english')\n",
        "\n",
        "# convert th documents into a matrix\n",
        "tfidf_wm = tfidfvectorizer.fit_transform(train)\n",
        "\n",
        "\n",
        "#count_tokens = tfidfvectorizer.get_feature_names() # no difference\n",
        "tfidf_tokens = tfidfvectorizer.get_feature_names()\n",
        "df_tfidfvect = pd.DataFrame(data = tfidf_wm.toarray(),columns = tfidf_tokens)\n",
        "\n",
        "print(\"\\nTD-IDF Vectorizer\\n\")\n",
        "print(df_tfidfvect)"
      ],
      "metadata": {
        "colab": {
          "base_uri": "https://localhost:8080/"
        },
        "id": "rw45GNsdnlRg",
        "outputId": "c9aaa514-804c-4edc-eecb-5cf3de647716"
      },
      "execution_count": 24,
      "outputs": [
        {
          "output_type": "stream",
          "name": "stderr",
          "text": [
            "[nltk_data] Downloading package punkt to /root/nltk_data...\n",
            "[nltk_data]   Package punkt is already up-to-date!\n",
            "/usr/local/lib/python3.7/dist-packages/sklearn/feature_extraction/text.py:401: UserWarning: Your stop_words may be inconsistent with your preprocessing. Tokenizing the stop words generated tokens ['abov', 'afterward', 'alon', 'alreadi', 'alway', 'ani', 'anoth', 'anyon', 'anyth', 'anywher', 'becam', 'becaus', 'becom', 'befor', 'besid', 'cri', 'describ', 'dure', 'els', 'elsewher', 'empti', 'everi', 'everyon', 'everyth', 'everywher', 'fifti', 'formerli', 'forti', 'ha', 'henc', 'hereaft', 'herebi', 'hi', 'howev', 'hundr', 'inde', 'latterli', 'mani', 'meanwhil', 'moreov', 'mostli', 'nobodi', 'noon', 'noth', 'nowher', 'onc', 'onli', 'otherwis', 'ourselv', 'perhap', 'pleas', 'seriou', 'sever', 'sinc', 'sincer', 'sixti', 'someon', 'someth', 'sometim', 'somewher', 'themselv', 'thenc', 'thereaft', 'therebi', 'therefor', 'thi', 'thu', 'togeth', 'twelv', 'twenti', 'veri', 'wa', 'whatev', 'whenc', 'whenev', 'wherea', 'whereaft', 'wherebi', 'wherev', 'whi', 'yourselv'] not in stop_words.\n",
            "  % sorted(inconsistent)\n"
          ]
        },
        {
          "output_type": "stream",
          "name": "stdout",
          "text": [
            "\n",
            "TD-IDF Vectorizer\n",
            "\n",
            "      -day  -foot   -h  -hour  -inch  -mile  -minut  -odd  -pack  -person  \\\n",
            "0      0.0    0.0  0.0    0.0    0.0    0.0     0.0   0.0    0.0      0.0   \n",
            "1      0.0    0.0  0.0    0.0    0.0    0.0     0.0   0.0    0.0      0.0   \n",
            "2      0.0    0.0  0.0    0.0    0.0    0.0     0.0   0.0    0.0      0.0   \n",
            "3      0.0    0.0  0.0    0.0    0.0    0.0     0.0   0.0    0.0      0.0   \n",
            "4      0.0    0.0  0.0    0.0    0.0    0.0     0.0   0.0    0.0      0.0   \n",
            "...    ...    ...  ...    ...    ...    ...     ...   ...    ...      ...   \n",
            "1868   0.0    0.0  0.0    0.0    0.0    0.0     0.0   0.0    0.0      0.0   \n",
            "1869   0.0    0.0  0.0    0.0    0.0    0.0     0.0   0.0    0.0      0.0   \n",
            "1870   0.0    0.0  0.0    0.0    0.0    0.0     0.0   0.0    0.0      0.0   \n",
            "1871   0.0    0.0  0.0    0.0    0.0    0.0     0.0   0.0    0.0      0.0   \n",
            "1872   0.0    0.0  0.0    0.0    0.0    0.0     0.0   0.0    0.0      0.0   \n",
            "\n",
            "      ...  zombi  zone  zoo  zoom  zoomer  zoomi  zozo  zumba  zumiez  zurich  \n",
            "0     ...    0.0   0.0  0.0   0.0     0.0    0.0   0.0    0.0     0.0     0.0  \n",
            "1     ...    0.0   0.0  0.0   0.0     0.0    0.0   0.0    0.0     0.0     0.0  \n",
            "2     ...    0.0   0.0  0.0   0.0     0.0    0.0   0.0    0.0     0.0     0.0  \n",
            "3     ...    0.0   0.0  0.0   0.0     0.0    0.0   0.0    0.0     0.0     0.0  \n",
            "4     ...    0.0   0.0  0.0   0.0     0.0    0.0   0.0    0.0     0.0     0.0  \n",
            "...   ...    ...   ...  ...   ...     ...    ...   ...    ...     ...     ...  \n",
            "1868  ...    0.0   0.0  0.0   0.0     0.0    0.0   0.0    0.0     0.0     0.0  \n",
            "1869  ...    0.0   0.0  0.0   0.0     0.0    0.0   0.0    0.0     0.0     0.0  \n",
            "1870  ...    0.0   0.0  0.0   0.0     0.0    0.0   0.0    0.0     0.0     0.0  \n",
            "1871  ...    0.0   0.0  0.0   0.0     0.0    0.0   0.0    0.0     0.0     0.0  \n",
            "1872  ...    0.0   0.0  0.0   0.0     0.0    0.0   0.0    0.0     0.0     0.0  \n",
            "\n",
            "[1873 rows x 11432 columns]\n"
          ]
        },
        {
          "output_type": "stream",
          "name": "stderr",
          "text": [
            "/usr/local/lib/python3.7/dist-packages/sklearn/utils/deprecation.py:87: FutureWarning: Function get_feature_names is deprecated; get_feature_names is deprecated in 1.0 and will be removed in 1.2. Please use get_feature_names_out instead.\n",
            "  warnings.warn(msg, category=FutureWarning)\n"
          ]
        }
      ]
    },
    {
      "cell_type": "code",
      "source": [],
      "metadata": {
        "id": "vPvzeRtLq3yJ"
      },
      "execution_count": null,
      "outputs": []
    },
    {
      "cell_type": "code",
      "source": [],
      "metadata": {
        "id": "qAh2T4aTq31G"
      },
      "execution_count": null,
      "outputs": []
    },
    {
      "cell_type": "code",
      "source": [],
      "metadata": {
        "id": "J8pz1tnlq33-"
      },
      "execution_count": null,
      "outputs": []
    },
    {
      "cell_type": "code",
      "source": [],
      "metadata": {
        "id": "T4Ojb_Svq36E"
      },
      "execution_count": null,
      "outputs": []
    },
    {
      "cell_type": "code",
      "source": [
        "import numpy as np\n",
        "\n",
        "from matplotlib import pyplot as plt\n",
        "from scipy.cluster.hierarchy import dendrogram\n",
        "from sklearn.datasets import load_iris\n",
        "from sklearn.cluster import AgglomerativeClustering\n",
        "\n",
        "\n",
        "def plot_dendrogram(model, **kwargs):\n",
        "    # Create linkage matrix and then plot the dendrogram\n",
        "\n",
        "    # create the counts of samples under each node\n",
        "    counts = np.zeros(model.children_.shape[0])\n",
        "    n_samples = len(model.labels_)\n",
        "    for i, merge in enumerate(model.children_):\n",
        "        current_count = 0\n",
        "        for child_idx in merge:\n",
        "            if child_idx < n_samples:\n",
        "                current_count += 1  # leaf node\n",
        "            else:\n",
        "                current_count += counts[child_idx - n_samples]\n",
        "        counts[i] = current_count\n",
        "\n",
        "    linkage_matrix = np.column_stack(\n",
        "        [model.children_, model.distances_, counts]\n",
        "    ).astype(float)\n",
        "\n",
        "    # Plot the corresponding dendrogram\n",
        "    return dendrogram(linkage_matrix, **kwargs)\n"
      ],
      "metadata": {
        "id": "WkT7W-oIjEN_"
      },
      "execution_count": 7,
      "outputs": []
    },
    {
      "cell_type": "code",
      "source": [
        "import matplotlib\n",
        "\n",
        "# setting distance_threshold=0 ensures we compute the full tree.\n",
        "model = AgglomerativeClustering(distance_threshold=1, n_clusters=None, compute_distances=True)\n",
        "model = model.fit(df_tfidfvect.transpose())\n",
        "labels = tfidfvectorizer.get_feature_names()\n",
        "\n",
        "print(\"Agglomerative cluster distances %s\" % model.distances_)\n",
        "print(\"Agglomerative cluster children %s\" % model.children_)\n",
        "#print(\"Agglomerative cluster feature_names_in_ %s\" % model.feature_names_in_)\n",
        "#print(\"Agglomerative cluster length feature_names_in_ %s\" % len(model.feature_names_in_))\n",
        "\n",
        "all_labels = [l for l in model.labels_]\n",
        "print(f\"Agglomerative cluster labels {all_labels}\")\n",
        "print(\"Agglomerative cluster no. of clusters %s\" % model.n_clusters_)\n",
        "\n",
        "fig = matplotlib.pyplot.gcf()\n",
        "fig.set_size_inches(18.5, 10.5)\n",
        "\n",
        "plt.title(\"Hierarchical Clustering Dendrogram\")\n",
        "# plot the top three levels of the dendrogram\n",
        "R = plot_dendrogram(model, no_plot=True, p=10)\n",
        "\n",
        "temp = {R[\"leaves\"][ii]: labels[ii] for ii in range(len(R[\"leaves\"]))}\n",
        "def llf(xx):\n",
        "    return \"{}\".format(temp[xx])\n",
        "\n",
        "plot_dendrogram(model, leaf_label_func=llf, p=10)\n",
        "plt.axhline(y = 2, color = 'r', linestyle = '-')\n",
        "plt.xlabel(\"Number of points in node (or index of point if no parenthesis).\")\n",
        "plt.show()"
      ],
      "metadata": {
        "colab": {
          "base_uri": "https://localhost:8080/"
        },
        "id": "o4qjC2AbqbUG",
        "outputId": "48f1586f-3cfe-4b34-fd1b-5c98d0a92385"
      },
      "execution_count": null,
      "outputs": [
        {
          "output_type": "stream",
          "name": "stderr",
          "text": [
            "/usr/local/lib/python3.7/dist-packages/sklearn/utils/deprecation.py:87: FutureWarning: Function get_feature_names is deprecated; get_feature_names is deprecated in 1.0 and will be removed in 1.2. Please use get_feature_names_out instead.\n",
            "  warnings.warn(msg, category=FutureWarning)\n"
          ]
        },
        {
          "output_type": "stream",
          "name": "stdout",
          "text": [
            "Agglomerative cluster distances [ 0.          0.          0.         ...  9.45260125 13.3785007\n",
            " 21.56822302]\n",
            "Agglomerative cluster children [[    1  1131]\n",
            " [ 2062  3746]\n",
            " [ 6766 11433]\n",
            " ...\n",
            " [22837 22854]\n",
            " [22856 22859]\n",
            " [22860 22861]]\n",
            "Agglomerative cluster labels [146, 146, 40, 146, 146, 146, 40, 146, 146, 146, 146, 146, 146, 146, 146, 146, 146, 146, 146, 146, 40, 146, 146, 146, 40, 8, 146, 146, 40, 146, 133, 146, 146, 146, 146, 376, 479, 146, 146, 38, 146, 146, 146, 146, 146, 154, 40, 4, 146, 146, 146, 146, 8, 146, 146, 40, 146, 8, 166, 31, 146, 8, 40, 146, 146, 8, 146, 619, 9, 8, 146, 17, 146, 146, 146, 146, 40, 40, 146, 146, 146, 146, 40, 665, 146, 8, 146, 146, 146, 146, 146, 146, 146, 146, 146, 66, 145, 474, 146, 146, 146, 146, 639, 146, 146, 40, 146, 168, 168, 146, 146, 146, 102, 335, 12, 146, 146, 146, 40, 40, 146, 146, 146, 146, 9, 40, 146, 40, 63, 146, 40, 146, 40, 146, 40, 146, 146, 146, 146, 40, 634, 40, 40, 146, 146, 8, 16, 14, 8, 146, 40, 146, 146, 146, 146, 146, 40, 146, 40, 146, 146, 146, 146, 6, 146, 146, 146, 40, 146, 146, 146, 146, 146, 13, 18, 146, 60, 40, 146, 120, 40, 146, 146, 146, 31, 146, 40, 146, 4, 146, 482, 146, 146, 40, 40, 40, 40, 291, 6, 146, 146, 146, 146, 146, 146, 146, 146, 146, 146, 146, 137, 146, 40, 40, 146, 146, 40, 146, 146, 146, 146, 146, 40, 146, 146, 146, 40, 146, 146, 40, 146, 146, 40, 21, 146, 35, 146, 146, 146, 146, 146, 146, 133, 146, 146, 146, 146, 146, 6, 146, 146, 40, 40, 40, 146, 146, 146, 146, 146, 146, 146, 146, 146, 146, 40, 40, 40, 40, 146, 146, 146, 146, 146, 379, 146, 40, 146, 145, 146, 55, 40, 40, 146, 40, 146, 146, 442, 146, 146, 146, 40, 146, 8, 40, 146, 133, 146, 399, 40, 146, 146, 84, 443, 146, 146, 146, 146, 146, 146, 40, 146, 146, 40, 40, 146, 146, 146, 40, 272, 146, 146, 146, 146, 146, 40, 146, 146, 146, 40, 146, 40, 40, 146, 146, 146, 146, 146, 40, 146, 272, 146, 146, 146, 146, 40, 146, 146, 146, 146, 8, 146, 146, 146, 129, 146, 146, 146, 146, 157, 8, 146, 40, 146, 623, 489, 40, 146, 40, 146, 146, 146, 40, 146, 40, 40, 146, 146, 351, 146, 469, 146, 146, 146, 40, 146, 146, 272, 146, 146, 146, 40, 146, 146, 146, 146, 40, 146, 146, 146, 146, 146, 146, 146, 512, 157, 667, 146, 571, 17, 17, 146, 146, 146, 674, 146, 40, 146, 146, 146, 40, 493, 40, 146, 40, 40, 146, 146, 385, 40, 146, 146, 146, 146, 62, 8, 107, 129, 561, 146, 146, 40, 510, 335, 8, 146, 133, 14, 146, 146, 146, 146, 146, 146, 8, 146, 146, 40, 40, 146, 146, 146, 146, 40, 4, 146, 373, 40, 146, 146, 146, 146, 154, 146, 146, 146, 146, 146, 146, 40, 40, 40, 146, 146, 146, 40, 349, 146, 146, 40, 146, 21, 40, 146, 40, 150, 40, 146, 52, 567, 146, 146, 4, 146, 146, 20, 40, 146, 146, 40, 146, 146, 146, 146, 146, 40, 146, 146, 40, 146, 146, 146, 8, 383, 146, 146, 146, 146, 40, 669, 146, 146, 146, 146, 40, 40, 17, 8, 149, 146, 391, 146, 444, 40, 49, 146, 40, 40, 146, 146, 146, 146, 146, 146, 40, 146, 146, 146, 146, 40, 25, 146, 40, 146, 146, 146, 146, 146, 146, 146, 146, 40, 146, 40, 146, 40, 146, 40, 8, 40, 146, 40, 137, 44, 146, 146, 146, 40, 590, 146, 8, 40, 146, 146, 146, 40, 146, 146, 146, 610, 146, 146, 8, 146, 146, 6, 146, 146, 146, 40, 146, 146, 40, 40, 40, 146, 146, 146, 40, 146, 40, 146, 40, 146, 146, 70, 146, 40, 146, 40, 146, 40, 146, 370, 146, 146, 40, 40, 146, 146, 146, 146, 146, 146, 90, 8, 146, 146, 146, 146, 14, 40, 146, 33, 8, 8, 40, 146, 146, 40, 146, 146, 146, 146, 146, 146, 146, 146, 146, 146, 40, 146, 146, 146, 55, 146, 40, 146, 146, 8, 146, 146, 146, 146, 146, 40, 146, 146, 677, 146, 40, 146, 40, 146, 146, 146, 40, 146, 146, 146, 79, 146, 8, 40, 617, 146, 146, 146, 146, 146, 137, 146, 146, 146, 146, 146, 146, 146, 146, 40, 146, 129, 133, 40, 146, 146, 146, 40, 40, 146, 146, 146, 40, 40, 146, 146, 9, 146, 146, 146, 40, 40, 146, 146, 146, 40, 146, 40, 146, 40, 28, 133, 146, 40, 40, 146, 146, 146, 146, 146, 146, 146, 146, 8, 146, 146, 8, 75, 606, 129, 146, 40, 146, 124, 655, 40, 435, 40, 133, 146, 146, 146, 146, 26, 146, 146, 146, 40, 146, 40, 59, 40, 146, 146, 146, 146, 146, 146, 272, 146, 146, 146, 146, 146, 150, 146, 146, 146, 146, 146, 146, 146, 306, 146, 146, 146, 8, 146, 40, 146, 77, 129, 519, 368, 26, 146, 146, 40, 146, 146, 146, 146, 562, 146, 146, 146, 146, 146, 40, 8, 40, 146, 146, 8, 146, 146, 40, 146, 146, 146, 146, 146, 352, 146, 54, 146, 146, 146, 146, 146, 146, 40, 8, 40, 146, 146, 40, 40, 40, 146, 148, 146, 146, 146, 40, 146, 146, 146, 146, 8, 146, 8, 146, 157, 146, 146, 8, 8, 78, 597, 146, 146, 146, 146, 40, 40, 146, 146, 146, 146, 451, 40, 146, 146, 146, 146, 40, 146, 146, 146, 146, 146, 146, 146, 146, 146, 146, 133, 573, 146, 82, 526, 146, 146, 133, 8, 146, 40, 146, 146, 146, 35, 40, 146, 146, 146, 146, 146, 40, 40, 146, 146, 63, 146, 146, 40, 146, 146, 146, 146, 291, 146, 146, 60, 146, 10, 41, 40, 146, 146, 40, 146, 146, 146, 146, 40, 146, 14, 146, 146, 146, 146, 146, 146, 558, 146, 146, 146, 83, 146, 146, 146, 146, 146, 146, 146, 146, 146, 146, 146, 40, 146, 146, 146, 146, 146, 146, 146, 146, 146, 146, 146, 8, 40, 146, 40, 40, 146, 146, 40, 146, 146, 146, 146, 8, 90, 8, 146, 160, 83, 146, 146, 146, 146, 40, 40, 146, 8, 146, 146, 146, 10, 146, 146, 35, 146, 146, 146, 146, 40, 17, 146, 146, 146, 146, 19, 146, 146, 40, 146, 133, 146, 8, 40, 146, 146, 146, 146, 146, 146, 146, 40, 146, 347, 146, 146, 40, 8, 146, 146, 146, 40, 146, 146, 146, 146, 146, 154, 146, 40, 40, 146, 146, 146, 40, 8, 146, 146, 146, 146, 390, 40, 40, 146, 146, 146, 40, 40, 81, 146, 146, 40, 40, 146, 146, 146, 146, 146, 146, 146, 146, 40, 374, 146, 6, 146, 146, 146, 146, 146, 40, 146, 146, 146, 146, 146, 146, 146, 146, 148, 146, 40, 146, 40, 146, 40, 18, 40, 40, 146, 146, 146, 40, 146, 146, 146, 146, 51, 463, 146, 425, 146, 146, 40, 146, 146, 40, 40, 146, 146, 146, 146, 146, 146, 146, 146, 146, 40, 146, 146, 40, 146, 146, 146, 8, 146, 146, 8, 8, 40, 146, 146, 146, 146, 537, 146, 146, 146, 146, 146, 146, 146, 40, 146, 146, 146, 146, 146, 40, 40, 146, 146, 146, 146, 146, 40, 146, 146, 296, 146, 146, 78, 146, 40, 40, 146, 146, 146, 146, 40, 146, 146, 169, 146, 146, 40, 146, 146, 9, 146, 146, 39, 40, 40, 83, 146, 146, 32, 40, 6, 146, 146, 146, 8, 559, 146, 146, 280, 146, 6, 146, 146, 146, 146, 146, 146, 146, 146, 40, 146, 146, 146, 146, 146, 649, 146, 146, 146, 146, 146, 40, 144, 146, 146, 19, 146, 146, 40, 146, 146, 146, 146, 146, 146, 40, 146, 387, 146, 146, 146, 146, 146, 150, 146, 146, 146, 146, 146, 40, 146, 40, 146, 146, 108, 541, 81, 40, 146, 146, 146, 146, 146, 146, 40, 146, 146, 146, 146, 146, 146, 146, 146, 146, 40, 146, 146, 146, 146, 146, 146, 146, 146, 146, 146, 40, 71, 146, 146, 146, 146, 146, 146, 55, 146, 79, 40, 146, 146, 146, 146, 146, 8, 146, 146, 146, 40, 146, 146, 146, 146, 40, 40, 27, 90, 146, 146, 146, 67, 146, 40, 40, 146, 146, 146, 146, 146, 146, 156, 40, 146, 356, 146, 146, 611, 146, 146, 146, 8, 146, 146, 146, 40, 40, 146, 84, 146, 146, 146, 146, 146, 40, 40, 146, 146, 81, 8, 146, 146, 146, 146, 146, 146, 146, 146, 146, 146, 40, 146, 146, 146, 146, 146, 146, 272, 40, 40, 146, 40, 146, 146, 146, 146, 40, 66, 436, 146, 146, 146, 146, 647, 146, 26, 146, 146, 146, 483, 593, 146, 146, 146, 40, 146, 146, 146, 146, 146, 146, 40, 146, 146, 28, 146, 146, 146, 146, 146, 146, 40, 146, 53, 20, 146, 146, 146, 137, 146, 146, 40, 40, 146, 146, 146, 146, 146, 146, 146, 595, 146, 146, 146, 146, 74, 146, 146, 146, 459, 8, 8, 146, 146, 146, 146, 146, 40, 40, 146, 146, 50, 40, 146, 146, 40, 40, 146, 146, 146, 146, 146, 146, 146, 40, 8, 146, 146, 40, 146, 146, 146, 40, 40, 40, 146, 146, 146, 146, 40, 146, 146, 146, 146, 146, 146, 380, 49, 40, 146, 146, 146, 146, 10, 146, 18, 146, 160, 146, 146, 146, 146, 146, 146, 146, 146, 146, 146, 146, 651, 503, 146, 165, 40, 146, 146, 146, 146, 146, 40, 146, 146, 146, 146, 40, 146, 648, 146, 146, 40, 146, 146, 8, 40, 397, 146, 146, 146, 40, 40, 146, 81, 40, 146, 146, 146, 146, 59, 40, 146, 146, 146, 146, 40, 146, 40, 146, 146, 146, 40, 146, 146, 146, 146, 40, 146, 146, 146, 40, 40, 146, 146, 146, 426, 146, 146, 146, 40, 40, 146, 146, 146, 146, 146, 146, 146, 8, 146, 146, 40, 146, 40, 146, 40, 49, 146, 146, 146, 146, 146, 40, 146, 8, 146, 146, 8, 40, 146, 146, 40, 40, 146, 146, 146, 107, 146, 40, 146, 49, 146, 146, 39, 146, 146, 146, 40, 146, 146, 146, 146, 146, 146, 40, 336, 146, 146, 146, 146, 146, 146, 50, 146, 146, 40, 50, 146, 146, 40, 146, 40, 6, 8, 146, 146, 146, 146, 146, 40, 146, 40, 146, 146, 146, 40, 40, 8, 40, 146, 146, 8, 146, 146, 146, 78, 146, 146, 146, 146, 146, 146, 146, 146, 40, 40, 146, 146, 146, 146, 40, 146, 40, 146, 40, 146, 146, 146, 146, 146, 40, 40, 146, 146, 146, 146, 40, 146, 146, 146, 146, 146, 146, 146, 146, 146, 146, 8, 146, 146, 146, 145, 146, 411, 146, 146, 146, 146, 40, 146, 146, 40, 40, 401, 146, 146, 40, 17, 146, 146, 19, 146, 40, 40, 40, 146, 146, 146, 146, 146, 8, 146, 146, 146, 367, 40, 146, 146, 40, 146, 146, 40, 146, 40, 146, 146, 146, 146, 146, 36, 146, 146, 146, 413, 146, 146, 8, 146, 40, 146, 149, 40, 40, 146, 146, 146, 146, 46, 146, 146, 40, 146, 146, 146, 146, 146, 146, 40, 40, 40, 146, 146, 146, 146, 146, 146, 146, 603, 11, 11, 146, 0, 146, 146, 146, 40, 13, 146, 146, 146, 146, 146, 146, 146, 146, 146, 652, 146, 146, 146, 146, 40, 146, 50, 146, 146, 146, 146, 146, 40, 146, 146, 146, 146, 156, 40, 146, 40, 146, 146, 146, 146, 146, 146, 76, 146, 146, 146, 40, 8, 40, 409, 146, 146, 146, 146, 40, 146, 146, 146, 146, 40, 146, 40, 146, 146, 146, 40, 146, 146, 146, 146, 40, 146, 40, 40, 146, 146, 146, 419, 27, 29, 146, 146, 607, 146, 21, 146, 40, 146, 146, 40, 146, 146, 40, 40, 146, 18, 40, 146, 146, 8, 146, 146, 146, 563, 146, 146, 40, 133, 146, 146, 485, 146, 40, 146, 146, 8, 40, 146, 146, 8, 40, 40, 146, 146, 13, 8, 146, 146, 146, 40, 40, 40, 369, 146, 40, 40, 146, 40, 19, 52, 146, 17, 8, 8, 146, 146, 146, 146, 146, 40, 146, 146, 511, 146, 146, 146, 40, 146, 146, 146, 8, 8, 12, 40, 40, 146, 146, 40, 146, 8, 146, 146, 146, 146, 146, 49, 40, 146, 146, 146, 146, 40, 146, 40, 146, 146, 133, 62, 8, 51, 146, 40, 8, 40, 146, 51, 17, 146, 146, 40, 146, 146, 40, 378, 146, 146, 146, 146, 146, 146, 40, 40, 66, 146, 146, 146, 146, 146, 40, 146, 83, 32, 146, 144, 470, 146, 146, 40, 17, 146, 146, 146, 40, 382, 146, 120, 34, 146, 8, 682, 146, 146, 146, 146, 8, 40, 40, 491, 146, 40, 146, 146, 146, 146, 146, 40, 146, 680, 40, 40, 40, 525, 8, 9, 8, 146, 18, 40, 641, 8, 146, 146, 585, 40, 146, 146, 146, 8, 146, 146, 146, 40, 146, 40, 40, 40, 146, 146, 146, 146, 146, 146, 146, 146, 146, 40, 146, 40, 146, 146, 40, 40, 146, 146, 10, 40, 146, 146, 146, 75, 656, 40, 146, 146, 146, 146, 146, 146, 146, 133, 146, 146, 146, 146, 146, 40, 146, 40, 146, 146, 40, 40, 146, 8, 668, 40, 146, 40, 306, 146, 40, 40, 146, 146, 146, 146, 146, 40, 146, 8, 392, 19, 146, 441, 40, 146, 20, 40, 146, 146, 146, 89, 40, 146, 8, 146, 146, 146, 146, 146, 377, 146, 146, 146, 146, 146, 146, 146, 17, 40, 17, 8, 32, 146, 146, 146, 40, 146, 146, 146, 146, 146, 146, 146, 146, 146, 146, 40, 14, 146, 146, 82, 146, 146, 146, 395, 146, 79, 40, 146, 146, 43, 19, 146, 146, 146, 40, 119, 40, 40, 146, 146, 8, 146, 146, 146, 146, 146, 146, 146, 146, 146, 19, 146, 146, 146, 40, 146, 146, 146, 146, 146, 40, 146, 146, 146, 146, 40, 40, 40, 146, 146, 146, 146, 146, 146, 146, 146, 146, 146, 146, 146, 146, 146, 8, 8, 146, 146, 146, 146, 146, 146, 146, 146, 40, 40, 40, 40, 146, 146, 146, 146, 146, 146, 40, 40, 40, 40, 40, 40, 146, 146, 8, 146, 146, 146, 146, 447, 40, 146, 146, 146, 146, 146, 146, 146, 146, 146, 421, 146, 146, 146, 146, 146, 146, 146, 40, 146, 146, 146, 146, 146, 609, 146, 40, 40, 40, 146, 146, 146, 146, 73, 146, 146, 146, 146, 146, 50, 40, 146, 83, 146, 146, 146, 146, 40, 146, 40, 146, 487, 40, 146, 146, 146, 160, 40, 146, 146, 146, 146, 146, 124, 8, 40, 40, 146, 146, 146, 146, 8, 146, 40, 146, 146, 146, 146, 146, 588, 146, 40, 40, 146, 146, 146, 146, 146, 146, 40, 146, 146, 146, 146, 146, 146, 146, 146, 40, 40, 15, 146, 40, 146, 554, 146, 55, 146, 146, 146, 146, 146, 40, 40, 146, 146, 146, 146, 146, 461, 40, 13, 146, 146, 146, 146, 40, 146, 146, 146, 146, 40, 332, 40, 671, 146, 40, 40, 146, 146, 8, 146, 146, 40, 146, 146, 40, 40, 146, 8, 40, 146, 146, 40, 21, 40, 146, 520, 146, 51, 133, 8, 146, 146, 146, 146, 40, 146, 40, 40, 146, 146, 146, 40, 146, 146, 51, 146, 146, 146, 146, 146, 146, 146, 70, 146, 146, 40, 40, 146, 146, 146, 591, 146, 1, 40, 146, 40, 133, 146, 40, 40, 146, 146, 40, 40, 146, 146, 146, 146, 8, 146, 371, 40, 146, 146, 146, 146, 40, 146, 40, 40, 40, 146, 146, 77, 146, 40, 146, 146, 40, 146, 156, 146, 146, 146, 146, 146, 40, 40, 146, 146, 575, 557, 146, 40, 146, 212, 146, 146, 40, 146, 146, 146, 60, 40, 146, 8, 146, 146, 40, 40, 40, 146, 635, 146, 17, 40, 8, 60, 146, 40, 146, 40, 40, 146, 77, 40, 102, 0, 146, 146, 499, 146, 146, 169, 146, 146, 146, 654, 146, 146, 146, 637, 40, 146, 4, 146, 40, 146, 146, 40, 146, 146, 146, 146, 133, 40, 146, 40, 146, 146, 146, 146, 146, 40, 40, 146, 146, 146, 146, 146, 8, 54, 146, 146, 599, 560, 146, 8, 146, 146, 40, 146, 169, 40, 146, 146, 471, 146, 17, 146, 146, 40, 40, 0, 146, 77, 146, 146, 146, 146, 146, 146, 40, 146, 146, 146, 146, 146, 146, 146, 40, 146, 40, 146, 40, 146, 40, 40, 146, 146, 650, 17, 10, 146, 40, 146, 40, 40, 146, 146, 146, 146, 27, 146, 146, 146, 40, 40, 146, 146, 146, 146, 146, 40, 146, 40, 40, 40, 40, 146, 40, 40, 146, 146, 146, 40, 146, 40, 417, 146, 146, 146, 40, 8, 146, 40, 150, 146, 146, 146, 146, 146, 81, 146, 146, 40, 146, 146, 146, 146, 40, 146, 146, 279, 40, 40, 146, 40, 150, 146, 146, 146, 146, 146, 146, 146, 146, 146, 146, 146, 146, 146, 146, 146, 146, 40, 146, 146, 8, 146, 8, 146, 146, 146, 90, 146, 40, 40, 146, 146, 146, 146, 40, 40, 146, 40, 146, 146, 146, 146, 8, 146, 146, 146, 146, 40, 40, 146, 146, 146, 129, 402, 506, 360, 146, 146, 146, 40, 40, 40, 146, 146, 146, 146, 146, 146, 146, 40, 23, 445, 146, 40, 40, 146, 40, 146, 146, 333, 40, 146, 146, 146, 146, 146, 146, 146, 40, 146, 146, 40, 146, 146, 332, 40, 146, 146, 40, 154, 146, 40, 146, 146, 40, 146, 40, 146, 146, 146, 146, 8, 146, 146, 146, 40, 40, 150, 146, 146, 146, 146, 146, 146, 146, 40, 146, 146, 40, 34, 8, 146, 40, 527, 146, 8, 40, 146, 146, 146, 146, 21, 146, 146, 146, 60, 146, 146, 146, 40, 146, 40, 528, 484, 146, 40, 146, 146, 40, 157, 146, 146, 40, 17, 169, 146, 146, 40, 146, 146, 40, 146, 146, 40, 146, 146, 146, 146, 146, 8, 40, 146, 146, 83, 146, 40, 146, 146, 146, 146, 40, 146, 146, 40, 146, 40, 40, 40, 146, 146, 146, 146, 146, 146, 146, 490, 146, 146, 146, 146, 149, 90, 40, 146, 40, 146, 146, 146, 146, 146, 146, 40, 146, 8, 146, 40, 146, 40, 146, 146, 17, 40, 33, 8, 146, 40, 146, 146, 146, 146, 146, 146, 146, 146, 146, 564, 464, 8, 8, 0, 146, 40, 40, 146, 146, 156, 146, 146, 146, 146, 40, 146, 146, 146, 146, 146, 146, 40, 146, 272, 146, 146, 40, 146, 146, 146, 146, 146, 272, 146, 40, 146, 146, 146, 684, 40, 146, 146, 153, 146, 40, 146, 146, 26, 615, 17, 146, 146, 146, 146, 146, 146, 146, 146, 146, 146, 146, 146, 146, 146, 146, 146, 146, 40, 133, 146, 8, 146, 146, 146, 21, 133, 146, 146, 83, 40, 146, 146, 492, 146, 40, 40, 146, 8, 40, 169, 146, 146, 146, 40, 156, 146, 40, 40, 146, 146, 146, 35, 146, 146, 146, 146, 146, 565, 146, 146, 146, 146, 638, 40, 146, 146, 146, 146, 40, 146, 40, 146, 146, 146, 40, 40, 146, 146, 40, 146, 146, 146, 84, 40, 146, 146, 14, 345, 146, 146, 146, 146, 146, 146, 146, 133, 146, 146, 146, 146, 146, 146, 146, 262, 40, 521, 146, 146, 146, 146, 40, 146, 146, 146, 146, 146, 146, 40, 40, 310, 168, 515, 146, 622, 146, 146, 355, 146, 146, 146, 146, 455, 146, 146, 146, 146, 146, 146, 146, 146, 40, 40, 146, 146, 542, 40, 146, 40, 40, 146, 102, 146, 146, 8, 40, 146, 17, 146, 146, 146, 146, 146, 40, 146, 40, 146, 146, 40, 146, 40, 372, 146, 146, 8, 146, 40, 146, 146, 146, 146, 146, 40, 146, 220, 146, 146, 146, 146, 40, 146, 146, 146, 146, 146, 146, 146, 90, 146, 146, 146, 146, 40, 133, 40, 146, 8, 146, 146, 146, 146, 40, 146, 146, 146, 661, 146, 146, 40, 146, 146, 500, 146, 43, 8, 146, 146, 40, 146, 40, 146, 146, 50, 146, 146, 146, 146, 146, 146, 146, 146, 146, 146, 40, 146, 40, 146, 40, 146, 480, 154, 146, 146, 583, 539, 154, 396, 601, 8, 40, 146, 40, 146, 8, 8, 146, 146, 146, 146, 40, 613, 63, 40, 346, 146, 40, 32, 40, 40, 146, 0, 670, 146, 40, 40, 10, 146, 146, 146, 156, 154, 146, 39, 40, 146, 146, 4, 146, 628, 146, 146, 20, 547, 38, 40, 146, 11, 8, 40, 343, 40, 146, 146, 146, 146, 146, 306, 146, 146, 146, 146, 146, 146, 146, 146, 17, 21, 6, 40, 146, 146, 146, 536, 146, 40, 146, 146, 146, 8, 8, 146, 146, 682, 146, 146, 146, 40, 146, 146, 146, 146, 40, 146, 60, 146, 146, 40, 146, 566, 40, 624, 146, 146, 40, 40, 40, 40, 17, 146, 8, 30, 146, 83, 146, 146, 146, 146, 40, 146, 40, 40, 146, 58, 40, 8, 146, 146, 40, 146, 146, 157, 10, 146, 146, 146, 625, 600, 146, 8, 146, 146, 325, 146, 146, 40, 146, 146, 40, 146, 146, 40, 523, 146, 146, 146, 146, 40, 0, 146, 146, 40, 146, 51, 40, 621, 146, 146, 154, 406, 146, 40, 40, 8, 146, 40, 146, 146, 306, 18, 146, 146, 420, 146, 146, 146, 146, 146, 146, 146, 146, 40, 146, 146, 533, 306, 40, 146, 136, 146, 10, 679, 146, 344, 146, 146, 40, 146, 146, 146, 17, 146, 418, 146, 146, 146, 146, 40, 146, 146, 146, 146, 146, 146, 146, 146, 146, 146, 146, 146, 146, 40, 146, 146, 146, 146, 146, 146, 40, 8, 146, 146, 146, 362, 146, 146, 146, 146, 40, 146, 531, 146, 146, 146, 146, 75, 146, 146, 646, 146, 6, 146, 40, 8, 17, 146, 146, 40, 0, 146, 146, 146, 40, 146, 40, 501, 146, 146, 40, 146, 146, 146, 146, 40, 146, 146, 146, 146, 146, 168, 146, 40, 146, 146, 146, 146, 146, 146, 146, 146, 40, 146, 146, 40, 146, 146, 146, 633, 40, 146, 146, 146, 146, 55, 146, 146, 146, 40, 495, 146, 146, 146, 146, 40, 146, 146, 146, 146, 146, 146, 146, 146, 146, 40, 146, 8, 146, 146, 146, 146, 146, 146, 40, 40, 146, 137, 83, 146, 40, 146, 146, 40, 580, 146, 8, 146, 17, 40, 40, 146, 129, 146, 40, 146, 146, 146, 146, 6, 146, 146, 146, 40, 8, 58, 78, 146, 8, 146, 146, 40, 548, 146, 146, 146, 146, 553, 146, 146, 40, 146, 146, 146, 40, 40, 146, 581, 146, 146, 146, 146, 13, 146, 146, 146, 146, 146, 6, 40, 146, 146, 146, 123, 40, 146, 40, 40, 40, 146, 146, 146, 40, 40, 67, 40, 146, 160, 146, 146, 45, 68, 146, 40, 40, 146, 146, 146, 146, 19, 40, 146, 150, 4, 529, 146, 146, 146, 40, 40, 40, 146, 146, 146, 146, 146, 146, 146, 40, 146, 40, 146, 53, 146, 40, 146, 146, 8, 146, 3, 146, 146, 146, 146, 146, 146, 146, 146, 146, 146, 40, 146, 40, 146, 40, 40, 3, 612, 146, 146, 146, 146, 146, 146, 8, 146, 8, 8, 40, 40, 146, 40, 40, 40, 146, 8, 146, 146, 146, 153, 146, 40, 146, 146, 40, 160, 437, 364, 146, 40, 146, 146, 146, 146, 146, 146, 146, 40, 146, 146, 146, 146, 146, 40, 79, 40, 67, 40, 146, 40, 133, 10, 146, 17, 146, 146, 146, 146, 120, 40, 146, 146, 40, 40, 146, 427, 146, 29, 146, 40, 146, 146, 146, 146, 146, 146, 146, 146, 146, 40, 146, 146, 146, 146, 146, 8, 146, 146, 146, 146, 146, 146, 574, 146, 40, 146, 146, 146, 56, 146, 146, 146, 40, 146, 146, 678, 146, 146, 40, 146, 146, 146, 146, 146, 683, 146, 146, 146, 90, 146, 108, 146, 146, 146, 146, 146, 40, 146, 146, 146, 40, 40, 146, 146, 146, 146, 146, 146, 146, 40, 146, 146, 146, 146, 146, 146, 146, 146, 8, 146, 17, 363, 21, 146, 146, 146, 146, 146, 146, 146, 146, 146, 40, 146, 295, 146, 146, 146, 40, 146, 40, 40, 146, 21, 146, 457, 146, 66, 146, 40, 40, 40, 146, 40, 146, 146, 40, 146, 8, 146, 532, 8, 146, 40, 146, 146, 146, 146, 146, 146, 146, 146, 40, 146, 40, 146, 146, 146, 146, 146, 146, 146, 146, 146, 146, 146, 146, 8, 40, 40, 40, 146, 146, 146, 146, 146, 146, 146, 146, 55, 40, 146, 146, 146, 146, 40, 33, 146, 146, 40, 291, 8, 146, 146, 146, 146, 160, 146, 146, 146, 146, 146, 40, 146, 146, 146, 146, 146, 146, 146, 146, 146, 146, 40, 146, 146, 146, 146, 146, 145, 53, 146, 146, 146, 40, 551, 146, 146, 40, 146, 146, 60, 338, 146, 146, 146, 40, 306, 146, 146, 40, 146, 146, 146, 40, 494, 146, 146, 568, 146, 146, 146, 146, 146, 146, 146, 146, 642, 146, 146, 146, 146, 146, 146, 146, 129, 146, 507, 146, 340, 40, 146, 146, 146, 146, 40, 146, 146, 40, 23, 40, 146, 146, 146, 146, 146, 8, 160, 146, 146, 1, 146, 146, 146, 8, 146, 146, 146, 40, 146, 146, 40, 291, 40, 291, 146, 146, 146, 146, 146, 146, 146, 40, 578, 40, 146, 146, 40, 146, 40, 146, 146, 146, 146, 146, 146, 146, 146, 146, 146, 439, 146, 146, 8, 40, 146, 146, 146, 146, 146, 146, 146, 40, 168, 146, 146, 146, 146, 146, 146, 40, 146, 146, 40, 82, 146, 146, 40, 40, 146, 146, 146, 40, 272, 579, 146, 146, 40, 146, 40, 146, 146, 146, 146, 342, 146, 146, 555, 40, 146, 129, 146, 146, 146, 146, 146, 146, 40, 146, 146, 146, 40, 146, 40, 146, 146, 146, 146, 40, 21, 146, 146, 323, 348, 146, 26, 146, 40, 146, 146, 146, 90, 146, 146, 40, 146, 146, 146, 133, 146, 146, 389, 146, 146, 17, 146, 146, 146, 146, 146, 3, 146, 535, 146, 146, 146, 40, 146, 146, 133, 146, 146, 146, 146, 138, 28, 146, 146, 146, 146, 146, 146, 21, 146, 146, 40, 146, 146, 40, 146, 40, 146, 8, 146, 40, 146, 40, 146, 681, 146, 146, 146, 146, 146, 146, 40, 40, 524, 146, 40, 147, 146, 8, 146, 146, 146, 40, 505, 146, 146, 146, 146, 146, 146, 605, 146, 675, 146, 146, 40, 146, 40, 146, 146, 146, 146, 184, 146, 146, 18, 146, 146, 52, 8, 146, 40, 146, 31, 146, 8, 146, 146, 40, 146, 8, 146, 146, 146, 135, 146, 146, 146, 146, 146, 40, 146, 146, 40, 40, 146, 146, 146, 146, 146, 146, 146, 40, 146, 146, 146, 40, 84, 39, 146, 146, 146, 40, 146, 146, 40, 146, 146, 8, 40, 146, 146, 146, 146, 40, 146, 146, 29, 146, 146, 40, 146, 146, 146, 636, 146, 35, 52, 146, 146, 123, 40, 156, 146, 146, 146, 509, 101, 40, 146, 146, 146, 146, 146, 6, 40, 146, 40, 40, 89, 146, 146, 146, 146, 146, 146, 146, 146, 40, 146, 146, 146, 146, 146, 146, 40, 146, 146, 90, 543, 40, 291, 146, 146, 146, 146, 146, 146, 40, 146, 146, 146, 146, 146, 146, 40, 146, 146, 146, 146, 146, 40, 40, 40, 146, 146, 146, 545, 146, 334, 146, 38, 146, 146, 8, 40, 146, 146, 40, 320, 146, 40, 146, 146, 40, 146, 146, 146, 146, 40, 146, 502, 40, 146, 40, 146, 146, 146, 146, 146, 146, 40, 146, 8, 146, 146, 146, 40, 146, 146, 146, 146, 146, 146, 146, 133, 146, 13, 40, 146, 8, 146, 8, 146, 146, 146, 40, 146, 40, 40, 146, 146, 358, 146, 40, 146, 146, 146, 146, 146, 157, 146, 146, 146, 8, 146, 146, 146, 17, 20, 8, 146, 146, 146, 146, 475, 146, 146, 40, 146, 8, 146, 40, 149, 146, 146, 146, 40, 40, 146, 146, 146, 146, 40, 659, 40, 618, 40, 8, 146, 146, 8, 40, 146, 146, 40, 146, 40, 146, 146, 481, 146, 21, 146, 157, 146, 40, 40, 40, 146, 146, 146, 40, 40, 146, 146, 146, 146, 146, 40, 549, 8, 146, 40, 22, 146, 138, 146, 146, 146, 146, 146, 146, 146, 645, 146, 40, 146, 185, 146, 40, 40, 40, 146, 8, 146, 118, 146, 40, 75, 153, 146, 146, 146, 146, 40, 40, 146, 146, 146, 146, 40, 40, 398, 146, 40, 146, 146, 146, 76, 146, 146, 40, 146, 146, 146, 146, 40, 146, 146, 146, 4, 146, 146, 146, 146, 40, 146, 146, 40, 146, 50, 40, 146, 146, 146, 40, 146, 40, 146, 20, 146, 146, 146, 146, 146, 146, 146, 146, 146, 146, 146, 146, 146, 146, 146, 146, 146, 146, 146, 146, 40, 82, 146, 40, 146, 146, 40, 40, 452, 40, 146, 40, 76, 146, 146, 146, 146, 77, 146, 146, 146, 146, 146, 40, 146, 28, 146, 146, 40, 146, 146, 146, 21, 146, 146, 146, 40, 146, 146, 146, 146, 146, 40, 8, 146, 40, 146, 146, 146, 40, 146, 146, 146, 40, 146, 169, 146, 146, 146, 146, 146, 55, 146, 40, 146, 146, 146, 133, 146, 40, 8, 40, 146, 146, 146, 146, 40, 146, 146, 146, 146, 40, 8, 146, 272, 133, 146, 146, 267, 133, 8, 146, 146, 40, 146, 40, 40, 146, 146, 146, 556, 40, 146, 146, 40, 9, 146, 149, 146, 146, 146, 40, 146, 40, 146, 146, 146, 40, 40, 40, 40, 40, 40, 589, 63, 40, 146, 146, 146, 146, 146, 146, 146, 146, 40, 18, 40, 146, 146, 146, 146, 40, 40, 146, 40, 40, 40, 146, 146, 40, 146, 146, 146, 146, 146, 569, 146, 146, 146, 146, 146, 350, 146, 146, 146, 146, 40, 146, 146, 146, 146, 146, 146, 146, 146, 40, 40, 146, 49, 146, 40, 146, 40, 40, 361, 146, 146, 40, 146, 146, 146, 146, 146, 40, 304, 40, 146, 157, 8, 146, 146, 146, 146, 40, 146, 146, 40, 146, 16, 146, 146, 146, 146, 40, 40, 11, 146, 40, 146, 146, 146, 146, 146, 146, 146, 146, 146, 4, 5, 154, 146, 40, 540, 146, 40, 146, 146, 30, 146, 40, 146, 146, 146, 123, 146, 77, 40, 40, 146, 146, 40, 146, 54, 146, 249, 146, 40, 146, 146, 40, 40, 8, 146, 146, 40, 146, 8, 550, 8, 146, 40, 146, 146, 40, 146, 40, 146, 13, 146, 146, 146, 146, 146, 146, 146, 146, 146, 146, 40, 146, 2, 146, 146, 146, 146, 146, 146, 146, 8, 146, 8, 40, 488, 146, 9, 146, 146, 146, 146, 40, 8, 146, 508, 146, 8, 77, 40, 146, 146, 146, 40, 245, 423, 40, 146, 146, 146, 146, 146, 146, 8, 146, 146, 21, 146, 40, 146, 146, 146, 146, 146, 146, 40, 146, 40, 146, 160, 17, 146, 40, 146, 8, 40, 183, 146, 146, 146, 146, 146, 388, 146, 146, 40, 21, 146, 146, 146, 133, 146, 146, 146, 146, 146, 40, 146, 146, 146, 146, 38, 146, 146, 146, 40, 146, 146, 146, 146, 146, 146, 146, 146, 146, 146, 146, 40, 8, 146, 146, 146, 146, 77, 40, 40, 40, 40, 40, 146, 40, 40, 40, 146, 40, 49, 146, 146, 8, 40, 146, 146, 146, 8, 40, 146, 146, 19, 146, 146, 17, 146, 40, 40, 146, 146, 40, 146, 146, 146, 146, 8, 146, 40, 146, 146, 146, 146, 146, 146, 146, 40, 146, 40, 146, 10, 14, 146, 146, 146, 146, 146, 146, 146, 40, 40, 146, 146, 146, 146, 146, 146, 40, 146, 40, 269, 146, 146, 40, 146, 146, 8, 146, 146, 146, 8, 146, 40, 146, 53, 40, 146, 146, 146, 146, 146, 146, 40, 146, 146, 40, 146, 146, 146, 146, 146, 40, 146, 40, 40, 146, 146, 146, 146, 146, 146, 146, 0, 146, 17, 146, 40, 146, 146, 40, 146, 146, 146, 146, 146, 13, 40, 40, 146, 146, 146, 146, 146, 146, 146, 146, 353, 8, 146, 146, 146, 146, 146, 40, 9, 146, 146, 146, 146, 146, 146, 40, 146, 40, 146, 146, 146, 146, 146, 146, 40, 146, 146, 146, 146, 40, 146, 146, 146, 40, 14, 40, 146, 146, 40, 146, 146, 146, 146, 146, 146, 146, 40, 146, 146, 40, 146, 146, 146, 146, 40, 27, 146, 146, 146, 40, 146, 146, 146, 146, 146, 394, 146, 147, 146, 146, 8, 146, 146, 146, 40, 40, 40, 40, 146, 146, 146, 146, 146, 146, 146, 146, 146, 146, 317, 40, 40, 146, 146, 146, 157, 146, 146, 40, 146, 673, 146, 146, 146, 146, 146, 146, 40, 146, 146, 146, 8, 40, 146, 146, 146, 146, 146, 296, 133, 146, 146, 40, 146, 6, 40, 270, 146, 146, 146, 146, 146, 146, 8, 146, 261, 146, 146, 146, 146, 146, 146, 146, 146, 40, 11, 40, 146, 146, 384, 146, 146, 393, 40, 146, 146, 146, 40, 146, 146, 146, 36, 146, 146, 146, 40, 146, 146, 146, 146, 146, 146, 146, 146, 40, 146, 146, 146, 146, 146, 146, 146, 146, 146, 146, 146, 146, 14, 146, 40, 146, 40, 146, 146, 146, 146, 146, 146, 146, 146, 40, 61, 146, 22, 146, 146, 40, 146, 40, 146, 146, 146, 146, 146, 146, 146, 146, 40, 40, 146, 146, 146, 146, 146, 146, 146, 146, 40, 146, 544, 146, 146, 146, 146, 146, 146, 208, 146, 146, 40, 146, 146, 146, 146, 133, 146, 146, 40, 146, 146, 146, 146, 146, 196, 146, 478, 627, 40, 146, 146, 40, 146, 146, 40, 146, 40, 146, 53, 146, 34, 146, 146, 146, 133, 146, 146, 40, 168, 8, 8, 40, 146, 146, 40, 146, 146, 146, 146, 146, 40, 146, 40, 40, 40, 64, 616, 146, 64, 40, 146, 146, 40, 146, 146, 146, 40, 146, 643, 146, 60, 146, 146, 40, 146, 146, 663, 146, 146, 146, 148, 146, 40, 146, 433, 146, 146, 146, 146, 146, 146, 146, 40, 146, 146, 146, 146, 146, 40, 146, 146, 146, 146, 146, 146, 146, 40, 146, 40, 146, 146, 146, 146, 146, 40, 146, 146, 146, 146, 146, 146, 146, 146, 146, 146, 146, 8, 530, 146, 146, 146, 40, 454, 146, 146, 146, 40, 40, 40, 146, 146, 146, 146, 40, 40, 40, 146, 146, 146, 146, 146, 146, 63, 40, 146, 146, 296, 146, 146, 146, 146, 8, 146, 146, 324, 146, 146, 158, 40, 40, 156, 146, 89, 299, 146, 146, 146, 21, 146, 40, 40, 664, 146, 146, 146, 146, 40, 146, 146, 146, 77, 40, 146, 146, 146, 40, 146, 16, 146, 146, 146, 146, 146, 522, 146, 10, 146, 146, 146, 146, 146, 146, 40, 146, 146, 146, 146, 40, 40, 146, 102, 146, 146, 40, 146, 518, 263, 146, 146, 17, 146, 146, 41, 146, 146, 246, 146, 146, 467, 77, 146, 40, 146, 146, 133, 17, 40, 146, 40, 40, 146, 40, 8, 316, 40, 146, 40, 146, 146, 146, 40, 146, 40, 40, 40, 146, 146, 146, 146, 146, 146, 146, 146, 146, 146, 146, 146, 234, 146, 146, 146, 40, 146, 146, 17, 40, 146, 146, 40, 629, 146, 8, 146, 146, 146, 146, 146, 40, 146, 123, 146, 8, 8, 431, 146, 40, 146, 146, 40, 40, 146, 40, 40, 146, 146, 40, 146, 146, 195, 146, 146, 446, 146, 146, 146, 146, 40, 146, 40, 146, 146, 8, 146, 146, 40, 146, 146, 146, 146, 146, 146, 146, 146, 40, 146, 146, 146, 146, 146, 146, 146, 40, 146, 90, 40, 146, 146, 8, 146, 146, 146, 146, 146, 146, 146, 146, 40, 146, 40, 146, 146, 534, 40, 146, 40, 146, 16, 146, 146, 146, 146, 264, 146, 146, 40, 146, 25, 146, 146, 146, 146, 40, 40, 146, 146, 40, 146, 146, 146, 39, 146, 146, 146, 146, 146, 146, 146, 146, 146, 146, 146, 146, 146, 146, 180, 146, 172, 146, 20, 40, 146, 128, 146, 405, 146, 146, 79, 146, 146, 146, 40, 146, 146, 146, 40, 9, 3, 133, 146, 146, 146, 40, 40, 73, 660, 146, 146, 146, 146, 146, 146, 146, 40, 40, 146, 146, 146, 281, 146, 146, 146, 146, 146, 146, 146, 26, 146, 146, 146, 146, 146, 146, 8, 40, 146, 40, 146, 146, 40, 40, 8, 146, 146, 146, 146, 146, 146, 146, 146, 146, 10, 146, 146, 146, 8, 146, 146, 40, 146, 146, 604, 146, 146, 146, 40, 146, 146, 146, 146, 146, 146, 40, 146, 146, 146, 146, 40, 146, 146, 21, 146, 40, 146, 133, 146, 146, 40, 8, 40, 146, 146, 146, 146, 146, 146, 146, 40, 146, 146, 146, 8, 146, 146, 40, 146, 40, 8, 146, 146, 146, 40, 146, 8, 146, 173, 40, 146, 146, 8, 146, 146, 40, 146, 146, 146, 146, 146, 146, 146, 608, 146, 146, 146, 146, 146, 146, 146, 146, 146, 40, 146, 296, 3, 465, 146, 146, 146, 146, 146, 146, 146, 146, 146, 146, 146, 146, 296, 375, 40, 146, 40, 40, 146, 20, 6, 40, 146, 147, 146, 146, 146, 42, 28, 10, 146, 5, 146, 40, 146, 146, 146, 146, 133, 146, 146, 146, 40, 456, 146, 146, 146, 40, 8, 146, 146, 146, 146, 146, 146, 146, 40, 552, 40, 40, 40, 8, 146, 40, 40, 40, 146, 146, 146, 40, 84, 40, 146, 40, 146, 133, 146, 133, 8, 8, 146, 357, 40, 146, 146, 40, 146, 146, 146, 146, 366, 40, 69, 40, 9, 146, 29, 102, 146, 9, 146, 146, 146, 146, 53, 146, 146, 146, 66, 146, 146, 146, 40, 146, 40, 40, 40, 40, 146, 146, 40, 40, 146, 146, 40, 40, 146, 40, 146, 146, 40, 9, 146, 11, 146, 146, 146, 146, 146, 146, 146, 146, 146, 8, 146, 146, 146, 146, 146, 146, 40, 146, 146, 146, 146, 146, 146, 146, 146, 146, 40, 145, 146, 146, 40, 146, 146, 146, 476, 146, 146, 146, 146, 40, 40, 146, 146, 146, 146, 40, 146, 146, 146, 430, 40, 75, 40, 40, 146, 4, 146, 146, 146, 8, 146, 40, 40, 40, 21, 146, 40, 146, 40, 458, 146, 146, 133, 146, 40, 40, 40, 146, 146, 146, 146, 146, 146, 146, 146, 146, 40, 146, 146, 133, 18, 662, 146, 8, 40, 40, 146, 146, 146, 658, 146, 146, 146, 146, 146, 146, 146, 146, 146, 40, 21, 146, 146, 146, 146, 146, 146, 40, 146, 146, 146, 146, 146, 146, 146, 146, 40, 146, 146, 146, 146, 146, 31, 146, 146, 146, 40, 70, 146, 146, 146, 146, 40, 146, 40, 27, 146, 146, 40, 146, 146, 40, 40, 146, 146, 146, 577, 40, 428, 146, 146, 146, 146, 8, 146, 146, 630, 146, 146, 146, 40, 146, 310, 40, 146, 146, 146, 146, 40, 40, 146, 146, 146, 146, 146, 146, 438, 40, 146, 83, 146, 146, 146, 146, 146, 146, 146, 40, 146, 146, 146, 146, 473, 146, 146, 146, 146, 123, 146, 146, 40, 146, 146, 146, 381, 8, 146, 40, 40, 73, 146, 83, 54, 146, 146, 8, 146, 146, 146, 8, 146, 40, 133, 8, 8, 40, 146, 231, 8, 146, 146, 146, 146, 146, 146, 146, 146, 146, 146, 146, 133, 133, 146, 146, 146, 146, 146, 146, 40, 146, 40, 146, 146, 146, 146, 146, 146, 40, 289, 146, 146, 146, 40, 40, 146, 146, 133, 146, 146, 146, 3, 146, 146, 8, 146, 146, 146, 146, 161, 146, 146, 8, 146, 146, 146, 146, 146, 146, 40, 146, 133, 146, 146, 146, 146, 146, 146, 40, 146, 146, 146, 146, 146, 146, 146, 146, 146, 40, 40, 146, 8, 146, 146, 146, 40, 146, 146, 146, 146, 40, 40, 40, 146, 146, 146, 146, 8, 146, 146, 146, 146, 146, 146, 146, 40, 146, 146, 146, 278, 146, 40, 146, 146, 146, 40, 146, 146, 146, 40, 146, 146, 40, 40, 9, 135, 146, 146, 150, 17, 40, 359, 146, 146, 146, 146, 310, 146, 146, 146, 146, 146, 146, 79, 40, 40, 146, 146, 146, 40, 146, 146, 146, 21, 146, 146, 40, 146, 146, 146, 83, 146, 40, 40, 40, 40, 146, 165, 146, 146, 146, 146, 466, 146, 146, 146, 146, 146, 146, 146, 40, 415, 146, 146, 146, 8, 146, 236, 146, 146, 146, 146, 40, 146, 40, 146, 146, 174, 40, 146, 146, 146, 146, 40, 146, 146, 146, 77, 146, 146, 8, 146, 40, 146, 336, 146, 146, 146, 146, 146, 40, 146, 40, 146, 146, 146, 146, 146, 146, 146, 40, 146, 146, 13, 146, 146, 146, 40, 146, 146, 146, 40, 146, 146, 157, 40, 146, 146, 318, 79, 146, 146, 146, 146, 40, 146, 40, 146, 146, 146, 146, 146, 146, 146, 146, 146, 146, 146, 146, 146, 146, 146, 146, 146, 146, 272, 146, 146, 146, 146, 146, 146, 146, 146, 40, 40, 146, 146, 472, 146, 40, 9, 146, 146, 146, 146, 146, 146, 40, 146, 40, 146, 146, 40, 146, 146, 69, 146, 146, 146, 253, 146, 170, 40, 40, 146, 146, 146, 40, 146, 8, 146, 133, 169, 146, 146, 146, 146, 146, 133, 146, 146, 146, 133, 146, 146, 146, 150, 202, 8, 8, 146, 598, 146, 146, 146, 40, 146, 146, 146, 40, 40, 146, 13, 146, 40, 35, 40, 40, 146, 146, 40, 146, 146, 146, 146, 9, 146, 8, 146, 146, 66, 40, 146, 40, 146, 8, 146, 188, 146, 40, 9, 146, 146, 40, 146, 8, 146, 40, 146, 146, 40, 146, 146, 35, 146, 39, 146, 146, 146, 146, 146, 146, 146, 83, 146, 146, 146, 40, 40, 620, 72, 146, 40, 40, 146, 146, 146, 146, 146, 146, 273, 40, 146, 146, 6, 146, 146, 40, 177, 146, 146, 146, 8, 40, 282, 146, 146, 39, 146, 40, 146, 40, 146, 40, 146, 146, 146, 146, 146, 146, 146, 40, 146, 40, 432, 146, 146, 146, 146, 40, 146, 146, 146, 146, 146, 146, 146, 146, 146, 146, 146, 146, 305, 404, 146, 146, 146, 146, 146, 40, 146, 146, 146, 146, 146, 265, 146, 40, 146, 468, 146, 228, 146, 657, 8, 146, 146, 146, 146, 146, 146, 40, 146, 146, 602, 40, 146, 146, 146, 146, 146, 146, 40, 146, 191, 40, 146, 146, 572, 40, 40, 137, 146, 40, 146, 40, 146, 146, 146, 40, 146, 146, 296, 146, 146, 146, 146, 146, 146, 40, 146, 146, 8, 146, 146, 133, 146, 146, 146, 146, 146, 40, 40, 146, 146, 146, 146, 40, 146, 40, 146, 146, 8, 146, 8, 146, 146, 146, 146, 146, 40, 146, 40, 40, 146, 21, 146, 146, 146, 146, 285, 63, 146, 146, 146, 146, 146, 146, 40, 146, 146, 146, 146, 146, 460, 146, 146, 146, 146, 146, 146, 146, 146, 146, 146, 146, 146, 146, 146, 146, 40, 146, 16, 8, 146, 146, 146, 40, 146, 146, 146, 0, 146, 146, 146, 146, 146, 146, 146, 146, 146, 146, 146, 146, 146, 40, 55, 146, 146, 146, 146, 146, 40, 146, 146, 146, 146, 146, 146, 40, 40, 146, 146, 146, 146, 146, 146, 22, 40, 146, 232, 146, 133, 40, 306, 136, 146, 146, 146, 146, 28, 146, 52, 146, 10, 40, 79, 40, 146, 146, 40, 146, 40, 146, 21, 146, 40, 146, 146, 40, 146, 146, 146, 146, 40, 40, 146, 40, 422, 146, 146, 40, 146, 146, 146, 146, 146, 149, 8, 146, 40, 146, 146, 146, 146, 146, 146, 146, 146, 146, 40, 146, 146, 146, 146, 146, 102, 146, 40, 327, 77, 40, 146, 146, 120, 146, 146, 8, 146, 146, 40, 146, 76, 40, 146, 146, 146, 146, 40, 146, 40, 146, 296, 146, 146, 146, 146, 331, 146, 107, 40, 227, 40, 146, 40, 146, 8, 40, 146, 146, 40, 146, 40, 146, 146, 40, 40, 181, 146, 40, 146, 40, 40, 166, 40, 146, 146, 146, 146, 146, 146, 40, 44, 146, 146, 146, 146, 146, 146, 40, 146, 146, 40, 146, 365, 146, 146, 146, 146, 146, 146, 146, 146, 40, 146, 146, 146, 146, 40, 40, 40, 146, 146, 40, 146, 40, 90, 146, 40, 146, 146, 146, 40, 40, 40, 146, 146, 40, 146, 146, 146, 146, 146, 146, 146, 146, 146, 497, 40, 146, 146, 6, 40, 146, 146, 40, 40, 4, 146, 146, 102, 146, 146, 146, 133, 146, 67, 40, 8, 70, 146, 286, 40, 146, 40, 40, 146, 40, 40, 146, 49, 146, 146, 146, 146, 40, 146, 40, 146, 40, 189, 146, 133, 40, 298, 146, 40, 146, 146, 146, 146, 146, 146, 146, 477, 146, 40, 40, 146, 40, 146, 8, 40, 146, 146, 146, 146, 146, 146, 146, 146, 146, 167, 146, 146, 146, 40, 146, 16, 146, 146, 146, 146, 40, 8, 146, 146, 197, 146, 146, 146, 146, 66, 146, 66, 115, 40, 146, 83, 20, 146, 146, 146, 8, 26, 146, 146, 653, 146, 40, 146, 146, 146, 40, 146, 40, 386, 40, 71, 146, 146, 35, 146, 10, 291, 146, 146, 146, 146, 146, 146, 40, 40, 40, 146, 146, 146, 146, 146, 146, 146, 40, 146, 146, 146, 146, 146, 40, 146, 146, 146, 146, 40, 146, 146, 146, 146, 40, 23, 10, 146, 146, 587, 40, 8, 146, 40, 354, 22, 40, 146, 40, 40, 146, 40, 146, 76, 146, 146, 440, 40, 307, 40, 40, 146, 146, 407, 146, 146, 68, 40, 40, 40, 146, 146, 26, 146, 146, 146, 146, 165, 146, 71, 146, 8, 146, 146, 146, 40, 146, 40, 19, 8, 146, 146, 146, 146, 40, 40, 146, 538, 146, 146, 40, 146, 146, 40, 21, 146, 40, 146, 146, 146, 40, 626, 146, 71, 40, 146, 146, 40, 146, 146, 146, 146, 40, 40, 146, 146, 146, 146, 146, 158, 146, 146, 40, 146, 40, 146, 17, 146, 146, 146, 16, 146, 40, 146, 146, 40, 146, 40, 40, 146, 4, 146, 146, 146, 66, 40, 146, 146, 146, 570, 40, 40, 146, 178, 40, 146, 146, 146, 40, 146, 146, 146, 40, 146, 40, 8, 40, 146, 40, 146, 146, 146, 40, 146, 40, 146, 146, 108, 146, 146, 146, 146, 229, 146, 146, 146, 146, 40, 146, 146, 146, 40, 146, 146, 40, 146, 146, 146, 146, 40, 146, 146, 40, 146, 40, 146, 146, 146, 146, 146, 40, 146, 146, 146, 146, 40, 146, 146, 146, 40, 146, 146, 146, 40, 146, 146, 27, 146, 146, 40, 146, 146, 146, 8, 146, 146, 34, 146, 146, 40, 146, 40, 40, 40, 19, 146, 146, 40, 146, 40, 8, 146, 146, 146, 275, 146, 8, 146, 449, 17, 146, 222, 10, 146, 146, 8, 146, 40, 272, 146, 146, 146, 40, 146, 146, 146, 8, 72, 27, 146, 40, 40, 146, 40, 146, 146, 586, 58, 146, 40, 13, 146, 40, 186, 8, 40, 408, 40, 146, 40, 8, 49, 238, 40, 146, 146, 40, 416, 146, 22, 235, 146, 40, 146, 146, 139, 8, 40, 146, 311, 146, 40, 146, 146, 40, 133, 146, 40, 6, 146, 146, 146, 146, 146, 146, 146, 146, 40, 40, 146, 77, 17, 40, 146, 146, 146, 146, 146, 146, 40, 146, 40, 10, 146, 283, 40, 40, 146, 146, 309, 146, 146, 146, 148, 146, 146, 218, 146, 146, 146, 146, 79, 40, 146, 146, 146, 146, 146, 146, 272, 146, 133, 146, 146, 40, 146, 40, 2, 146, 146, 8, 146, 146, 40, 146, 146, 40, 146, 146, 146, 146, 146, 146, 40, 219, 146, 40, 146, 146, 40, 40, 8, 146, 486, 146, 146, 146, 146, 146, 146, 146, 146, 146, 9, 146, 146, 146, 146, 146, 146, 146, 146, 40, 3, 179, 146, 146, 146, 146, 146, 146, 40, 146, 146, 146, 146, 133, 146, 8, 146, 146, 35, 403, 8, 24, 146, 23, 146, 146, 23, 16, 146, 40, 146, 146, 40, 146, 146, 146, 175, 146, 146, 146, 146, 40, 146, 146, 40, 146, 146, 146, 40, 40, 146, 8, 40, 146, 146, 146, 146, 40, 40, 146, 146, 40, 40, 146, 40, 10, 40, 146, 146, 40, 146, 146, 40, 146, 40, 146, 8, 146, 146, 146, 40, 19, 146, 8, 40, 146, 10, 146, 146, 40, 146, 146, 146, 146, 146, 146, 146, 146, 146, 38, 146, 146, 146, 146, 146, 9, 90, 8, 146, 40, 146, 146, 146, 146, 146, 146, 63, 146, 146, 146, 146, 8, 146, 146, 146, 40, 40, 146, 146, 146, 146, 146, 40, 146, 146, 146, 146, 146, 146, 146, 146, 40, 146, 614, 146, 146, 79, 40, 40, 97, 146, 146, 313, 146, 146, 146, 24, 146, 146, 146, 40, 35, 57, 516, 40, 146, 146, 146, 146, 40, 328, 146, 146, 29, 40, 146, 146, 146, 40, 40, 146, 146, 146, 146, 40, 257, 448, 146, 40, 146, 40, 8, 146, 146, 146, 8, 40, 146, 146, 498, 146, 146, 146, 146, 146, 277, 146, 40, 146, 40, 40, 146, 146, 146, 40, 40, 146, 146, 146, 8, 146, 146, 146, 146, 146, 40, 146, 146, 8, 146, 146, 40, 146, 40, 146, 40, 146, 146, 146, 146, 40, 8, 8, 146, 19, 40, 146, 146, 146, 40, 5, 40, 146, 40, 74, 146, 146, 146, 146, 146, 119, 40, 146, 146, 146, 146, 146, 146, 146, 40, 146, 146, 40, 146, 146, 146, 40, 146, 146, 40, 171, 122, 146, 40, 146, 146, 70, 146, 146, 8, 8, 146, 146, 40, 146, 40, 146, 146, 40, 146, 146, 146, 169, 40, 40, 146, 146, 146, 187, 146, 32, 20, 84, 22, 8, 146, 146, 40, 146, 146, 146, 35, 146, 35, 146, 146, 146, 40, 32, 40, 146, 300, 146, 8, 146, 146, 146, 40, 146, 17, 146, 146, 40, 146, 40, 146, 146, 213, 146, 40, 146, 3, 146, 146, 146, 18, 168, 163, 146, 146, 146, 40, 146, 434, 146, 146, 146, 146, 40, 40, 146, 288, 146, 146, 296, 146, 146, 146, 146, 146, 8, 666, 40, 146, 76, 640, 133, 40, 85, 332, 40, 504, 40, 40, 146, 146, 146, 8, 146, 40, 146, 259, 40, 40, 40, 146, 146, 40, 40, 335, 146, 146, 40, 146, 40, 146, 146, 146, 40, 146, 18, 146, 146, 146, 40, 146, 40, 146, 146, 292, 146, 146, 146, 146, 40, 40, 146, 146, 8, 0, 146, 146, 146, 146, 146, 146, 146, 146, 146, 146, 146, 146, 102, 146, 146, 146, 146, 9, 146, 40, 40, 146, 54, 40, 146, 146, 146, 146, 146, 40, 146, 51, 308, 146, 146, 146, 146, 146, 146, 146, 146, 146, 146, 40, 40, 146, 40, 146, 146, 146, 146, 146, 146, 146, 146, 146, 146, 146, 146, 146, 40, 146, 146, 146, 146, 146, 40, 146, 40, 146, 146, 146, 146, 146, 146, 40, 8, 146, 40, 146, 146, 40, 146, 146, 146, 146, 146, 146, 40, 146, 40, 429, 40, 146, 169, 146, 146, 146, 146, 146, 146, 146, 146, 40, 146, 146, 40, 146, 146, 40, 146, 146, 462, 146, 146, 40, 146, 146, 146, 8, 146, 8, 146, 146, 3, 146, 146, 146, 146, 146, 146, 40, 146, 40, 146, 40, 146, 40, 146, 157, 40, 40, 146, 146, 146, 146, 40, 146, 146, 40, 146, 40, 146, 146, 146, 40, 146, 146, 146, 40, 40, 40, 146, 146, 29, 146, 332, 146, 146, 146, 198, 146, 146, 146, 146, 40, 146, 146, 67, 146, 146, 146, 146, 40, 146, 146, 146, 146, 40, 146, 146, 223, 146, 146, 146, 146, 146, 133, 146, 146, 146, 40, 146, 40, 40, 146, 40, 146, 61, 146, 40, 146, 152, 146, 146, 40, 146, 146, 146, 146, 303, 146, 40, 40, 133, 40, 146, 146, 40, 146, 450, 146, 146, 169, 8, 146, 40, 40, 146, 40, 146, 146, 40, 40, 146, 40, 146, 146, 146, 146, 149, 46, 146, 146, 146, 146, 146, 330, 0, 146, 40, 146, 146, 146, 40, 146, 146, 40, 146, 146, 146, 146, 146, 146, 146, 146, 146, 146, 146, 146, 146, 146, 146, 146, 146, 146, 146, 8, 8, 209, 146, 146, 146, 146, 146, 146, 146, 284, 146, 146, 146, 40, 193, 146, 146, 40, 146, 513, 146, 146, 146, 146, 40, 146, 340, 45, 146, 40, 40, 146, 146, 146, 306, 146, 76, 40, 146, 40, 203, 146, 146, 146, 40, 146, 146, 146, 40, 221, 146, 40, 40, 146, 146, 146, 40, 146, 128, 146, 146, 146, 146, 146, 146, 146, 146, 146, 21, 146, 146, 3, 146, 146, 146, 146, 146, 146, 6, 146, 146, 205, 146, 40, 40, 40, 146, 146, 146, 8, 40, 146, 40, 146, 146, 146, 146, 146, 40, 40, 146, 40, 146, 146, 146, 146, 40, 25, 13, 146, 40, 26, 182, 40, 146, 146, 146, 146, 40, 146, 146, 53, 40, 146, 146, 146, 146, 146, 146, 293, 146, 146, 146, 242, 146, 146, 146, 18, 51, 146, 146, 146, 146, 40, 40, 146, 146, 8, 146, 146, 146, 146, 146, 146, 146, 40, 40, 146, 146, 146, 40, 146, 146, 146, 146, 146, 146, 146, 146, 146, 146, 146, 146, 146, 146, 146, 146, 141, 146, 40, 40, 146, 40, 63, 40, 146, 146, 146, 146, 146, 146, 40, 148, 60, 146, 17, 146, 146, 40, 40, 146, 40, 146, 146, 133, 154, 40, 8, 146, 146, 146, 146, 146, 146, 40, 146, 40, 146, 146, 146, 152, 326, 412, 146, 146, 146, 254, 40, 146, 146, 40, 146, 40, 11, 146, 146, 146, 146, 146, 248, 145, 146, 146, 40, 146, 146, 146, 146, 40, 146, 40, 146, 146, 40, 306, 146, 146, 146, 146, 146, 146, 8, 146, 146, 40, 40, 146, 268, 146, 40, 146, 146, 40, 40, 146, 40, 146, 40, 40, 146, 8, 146, 146, 40, 146, 146, 146, 39, 146, 146, 3, 40, 40, 306, 40, 40, 146, 146, 146, 146, 146, 79, 146, 40, 582, 40, 146, 146, 81, 146, 40, 301, 146, 146, 40, 40, 146, 81, 77, 146, 40, 146, 146, 276, 146, 146, 146, 8, 40, 93, 146, 40, 146, 8, 146, 8, 146, 6, 40, 146, 146, 146, 40, 146, 146, 146, 146, 40, 146, 146, 194, 6, 146, 146, 40, 146, 40, 8, 8, 146, 146, 40, 146, 146, 146, 38, 146, 146, 146, 146, 40, 40, 146, 40, 146, 146, 146, 146, 146, 40, 40, 146, 146, 146, 146, 146, 146, 146, 146, 146, 0, 146, 8, 28, 146, 8, 40, 40, 8, 40, 40, 146, 40, 40, 146, 146, 146, 146, 146, 146, 146, 146, 146, 40, 146, 29, 146, 146, 8, 4, 146, 131, 40, 11, 517, 146, 146, 146, 332, 146, 13, 644, 40, 40, 146, 146, 79, 146, 170, 40, 146, 40, 146, 146, 40, 40, 8, 60, 146, 17, 146, 146, 32, 146, 215, 40, 146, 40, 146, 146, 146, 40, 146, 17, 146, 146, 40, 40, 83, 146, 40, 146, 146, 146, 146, 146, 146, 39, 146, 252, 146, 146, 146, 40, 146, 40, 146, 146, 146, 146, 146, 146, 146, 40, 146, 40, 40, 40, 146, 146, 146, 146, 146, 146, 146, 146, 146, 146, 146, 22, 146, 146, 146, 102, 146, 40, 146, 146, 40, 146, 146, 146, 146, 146, 146, 146, 146, 146, 146, 9, 146, 40, 146, 274, 146, 40, 146, 40, 146, 146, 146, 146, 146, 146, 146, 17, 8, 146, 98, 40, 31, 146, 40, 40, 146, 146, 146, 162, 146, 146, 146, 0, 40, 146, 40, 40, 40, 8, 17, 146, 146, 146, 146, 146, 40, 146, 146, 40, 146, 146, 146, 146, 146, 146, 146, 146, 146, 146, 146, 291, 146, 40, 146, 146, 146, 146, 146, 146, 146, 146, 40, 146, 133, 60, 146, 42, 146, 40, 146, 146, 146, 146, 146, 146, 146, 146, 296, 146, 146, 146, 631, 146, 146, 40, 146, 81, 40, 146, 83, 146, 146, 40, 146, 146, 40, 146, 146, 414, 146, 258, 40, 86, 40, 329, 146, 632, 266, 40, 49, 33, 146, 150, 146, 40, 146, 40, 146, 146, 146, 68, 146, 40, 40, 146, 40, 146, 146, 146, 146, 146, 146, 230, 255, 40, 146, 146, 146, 146, 40, 176, 146, 146, 146, 146, 146, 63, 40, 146, 40, 146, 146, 146, 146, 146, 146, 146, 146, 496, 146, 146, 146, 146, 40, 244, 8, 146, 8, 146, 146, 146, 146, 146, 114, 216, 40, 146, 17, 146, 6, 21, 596, 146, 39, 146, 146, 146, 40, 146, 146, 19, 146, 146, 146, 40, 40, 224, 146, 8, 146, 146, 146, 40, 146, 146, 146, 146, 146, 146, 146, 146, 146, 146, 146, 146, 40, 40, 146, 146, 146, 146, 40, 146, 146, 146, 146, 22, 146, 146, 146, 146, 146, 146, 206, 146, 146, 146, 8, 146, 146, 146, 40, 40, 146, 40, 40, 40, 146, 146, 40, 146, 40, 146, 146, 146, 146, 146, 146, 146, 295, 146, 146, 146, 146, 40, 146, 146, 146, 146, 146, 146, 146, 146, 146, 146, 40, 146, 40, 40, 29, 40, 78, 146, 40, 32, 40, 146, 146, 146, 146, 40, 146, 146, 40, 135, 40, 146, 146, 146, 40, 146, 146, 146, 169, 146, 146, 40, 146, 146, 146, 146, 146, 146, 21, 146, 146, 40, 40, 146, 146, 400, 146, 40, 146, 146, 13, 146, 146, 20, 146, 40, 146, 146, 40, 56, 146, 40, 40, 146, 201, 146, 40, 146, 51, 40, 149, 146, 40, 146, 146, 146, 40, 146, 146, 146, 146, 146, 130, 40, 146, 146, 146, 146, 146, 146, 146, 21, 146, 90, 146, 40, 146, 146, 40, 146, 40, 160, 146, 146, 146, 146, 146, 39, 146, 146, 40, 146, 146, 146, 146, 146, 146, 146, 146, 146, 40, 126, 146, 40, 146, 146, 146, 146, 146, 40, 40, 40, 146, 8, 146, 40, 61, 146, 243, 146, 146, 8, 214, 146, 146, 3, 40, 146, 146, 146, 146, 146, 146, 17, 146, 40, 8, 146, 146, 40, 8, 146, 146, 40, 146, 146, 146, 40, 121, 40, 146, 40, 52, 146, 156, 40, 40, 40, 146, 146, 40, 146, 146, 146, 146, 40, 146, 146, 40, 8, 146, 146, 40, 146, 146, 8, 146, 137, 146, 146, 146, 146, 146, 17, 146, 322, 15, 40, 146, 233, 40, 146, 40, 146, 146, 40, 40, 83, 146, 40, 146, 40, 146, 146, 40, 146, 146, 146, 146, 8, 146, 146, 146, 146, 146, 146, 40, 40, 146, 146, 146, 146, 146, 40, 146, 146, 8, 146, 146, 40, 132, 146, 146, 146, 146, 146, 146, 146, 146, 40, 146, 146, 40, 146, 146, 8, 146, 314, 146, 26, 146, 146, 146, 146, 146, 146, 146, 160, 146, 8, 40, 8, 146, 146, 146, 146, 146, 146, 576, 146, 146, 146, 146, 40, 40, 14, 146, 40, 146, 146, 40, 207, 146, 146, 146, 146, 40, 87, 106, 146, 146, 146, 294, 40, 8, 146, 40, 40, 19, 40, 146, 146, 40, 146, 146, 146, 146, 146, 17, 146, 0, 146, 146, 146, 146, 8, 8, 27, 146, 146, 146, 146, 146, 40, 146, 146, 146, 146, 146, 146, 146, 146, 146, 146, 146, 146, 146, 146, 40, 146, 146, 146, 146, 296, 40, 146, 146, 40, 146, 146, 164, 146, 146, 146, 40, 146, 146, 146, 146, 40, 146, 146, 146, 50, 146, 146, 146, 146, 146, 146, 146, 146, 146, 146, 146, 146, 146, 146, 146, 339, 146, 21, 146, 146, 40, 146, 134, 205, 40, 146, 146, 146, 40, 40, 40, 54, 146, 40, 146, 146, 146, 40, 40, 146, 146, 40, 146, 146, 146, 90, 146, 146, 146, 40, 239, 146, 40, 146, 146, 146, 146, 133, 6, 146, 146, 146, 146, 146, 40, 146, 146, 146, 146, 146, 146, 146, 146, 514, 146, 146, 146, 146, 146, 146, 146, 146, 146, 271, 146, 40, 146, 146, 146, 146, 146, 146, 40, 146, 40, 7, 146, 146, 146, 40, 146, 146, 146, 146, 146, 40, 146, 146, 146, 40, 146, 79, 80, 146, 146, 225, 297, 146, 146, 146, 40, 146, 8, 8, 40, 146, 146, 251, 146, 146, 40, 8, 146, 8, 676, 165, 83, 133, 40, 247, 40, 272, 40, 146, 146, 146, 146, 146, 146, 146, 146, 146, 40, 146, 146, 146, 146, 146, 146, 146, 135, 146, 146, 40, 146, 146, 40, 40, 40, 40, 146, 19, 424, 146, 146, 146, 146, 40, 146, 146, 146, 40, 146, 40, 146, 146, 146, 146, 37, 146, 40, 133, 146, 40, 8, 146, 40, 146, 146, 40, 146, 146, 594, 146, 146, 146, 146, 146, 146, 129, 146, 40, 146, 83, 146, 65, 146, 146, 146, 146, 146, 146, 40, 146, 36, 146, 69, 146, 146, 40, 146, 146, 146, 40, 146, 8, 146, 260, 146, 146, 146, 146, 241, 79, 79, 146, 146, 51, 146, 146, 17, 146, 40, 146, 146, 146, 146, 146, 146, 146, 146, 146, 315, 146, 146, 146, 146, 146, 146, 88, 40, 146, 146, 111, 146, 146, 146, 312, 146, 40, 40, 146, 6, 146, 54, 169, 57, 146, 146, 146, 146, 146, 146, 146, 146, 146, 52, 8, 146, 146, 40, 146, 40, 40, 146, 146, 146, 146, 40, 146, 40, 146, 146, 146, 146, 146, 40, 8, 146, 146, 146, 8, 40, 146, 146, 146, 4, 67, 146, 146, 146, 146, 8, 40, 40, 146, 146, 146, 146, 146, 146, 40, 146, 146, 146, 40, 546, 146, 146, 146, 40, 146, 146, 146, 146, 146, 146, 146, 146, 146, 40, 146, 146, 146, 146, 146, 146, 146, 40, 8, 146, 8, 146, 8, 146, 146, 146, 146, 146, 146, 146, 146, 146, 146, 146, 146, 146, 146, 40, 146, 133, 133, 146, 35, 40, 146, 40, 8, 237, 40, 146, 40, 155, 146, 40, 146, 77, 146, 146, 146, 146, 60, 332, 146, 40, 40, 40, 22, 146, 319, 18, 40, 146, 146, 146, 146, 146, 146, 8, 146, 146, 40, 146, 146, 146, 40, 146, 146, 146, 146, 146, 146, 3, 146, 146, 76, 146, 146, 40, 40, 146, 146, 40, 146, 146, 40, 146, 146, 146, 146, 146, 146, 40, 40, 40, 6, 133, 146, 146, 64, 146, 146, 40, 40, 40, 40, 146, 146, 40, 40, 146, 146, 40, 211, 146, 119, 146, 146, 146, 146, 40, 146, 40, 51, 146, 40, 120, 672, 40, 146, 4, 146, 40, 146, 40, 40, 146, 146, 13, 146, 40, 146, 146, 146, 146, 125, 146, 146, 40, 146, 146, 146, 146, 146, 146, 4, 146, 146, 146, 92, 146, 146, 146, 146, 146, 146, 39, 146, 146, 40, 146, 146, 146, 146, 146, 146, 40, 146, 146, 146, 146, 40, 146, 146, 146, 40, 8, 146, 146, 8, 8, 146, 165, 146, 49, 192, 40, 146, 83, 146, 40, 146, 146, 146, 146, 142, 146, 146, 146, 40, 63, 146, 146, 146, 146, 146, 146, 146, 146, 40, 146, 40, 40, 40, 146, 40, 40, 146, 146, 146, 146, 146, 40, 146, 146, 146, 146, 210, 146, 146, 146, 146, 146, 146, 146, 8, 40, 146, 146, 117, 146, 146, 146, 40, 40, 146, 8, 146, 146, 146, 146, 146, 146, 121, 40, 8, 146, 40, 146, 146, 146, 146, 146, 146, 40, 146, 146, 40, 217, 146, 146, 146, 84, 146, 146, 146, 40, 146, 58, 40, 146, 146, 40, 146, 146, 272, 146, 40, 146, 146, 146, 146, 146, 146, 146, 40, 40, 146, 146, 146, 146, 146, 146, 40, 146, 146, 40, 146, 133, 110, 40, 146, 40, 146, 146, 133, 146, 8, 146, 146, 146, 40, 146, 146, 40, 146, 146, 146, 146, 40, 40, 146, 146, 146, 146, 40, 146, 146, 40, 40, 40, 40, 146, 146, 146, 146, 146, 40, 146, 40, 146, 146, 40, 146, 40, 146, 146, 146, 584, 40, 146, 146, 146, 146, 146, 146, 146, 146, 40, 40, 146, 146, 146, 146, 146, 146, 146, 146, 146, 29, 8, 146, 146, 146, 19, 40, 8, 146, 40, 146, 146, 146, 40, 146, 146, 8, 40, 146, 146, 146, 146, 146, 40, 40, 1, 146, 40, 40, 146, 40, 146, 8, 146, 146, 104, 40, 133, 146, 146, 146, 146, 146, 146, 146, 146, 146, 146, 146, 146, 40, 146, 146, 146, 40, 40, 146, 146, 40, 146, 146, 146, 40, 8, 0, 146, 146, 146, 146, 146, 146, 8, 146, 146, 146, 146, 146, 146, 146, 146, 146, 146, 40, 146, 146, 146, 146, 453, 146, 146, 146, 40, 199, 146, 8, 146, 146, 146, 146, 146, 40, 146, 146, 146, 6, 30, 146, 146, 146, 146, 146, 146, 146, 146, 146, 40, 146, 40, 40, 146, 146, 146, 40, 146, 146, 109, 146, 146, 40, 146, 146, 146, 146, 146, 159, 40, 146, 146, 146, 76, 146, 146, 146, 40, 146, 40, 146, 146, 146, 40, 40, 40, 146, 146, 146, 40, 146, 146, 146, 40, 40, 146, 146, 410, 40, 146, 146, 146, 19, 146, 146, 8, 146, 146, 40, 40, 146, 90, 40, 146, 50, 118, 146, 146, 40, 27, 146, 146, 204, 146, 146, 40, 14, 146, 96, 146, 146, 146, 146, 40, 146, 40, 146, 146, 146, 146, 40, 146, 146, 8, 40, 146, 146, 287, 70, 70, 146, 146, 40, 40, 40, 40, 146, 40, 146, 146, 146, 146, 146, 40, 40, 146, 146, 146, 146, 40, 40, 40, 146, 40, 146, 146, 146, 146, 40, 146, 146, 146, 146, 146, 91, 146, 146, 146, 146, 146, 146, 40, 17, 146, 146, 146, 146, 146, 146, 146, 146, 146, 146, 146, 146, 8, 146, 146, 40, 40, 146, 146, 146, 146, 146, 40, 146, 35, 169, 40, 146, 146, 146, 146, 146, 146, 146, 146, 40, 40, 148, 40, 146, 146, 146, 146, 146, 40, 146, 146, 146, 146, 40, 146, 40, 146, 133, 146, 40, 146, 40, 146, 146, 146, 146, 146, 8, 146, 40, 7, 146, 146, 146, 40, 146, 40, 146, 146, 146, 146, 146, 35, 146, 146, 146, 146, 146, 146, 81, 146, 290, 146, 40, 146, 146, 146, 146, 146, 146, 256, 40, 40, 119, 146, 40, 146, 146, 167, 226, 28, 146, 146, 146, 146, 40, 40, 146, 53, 40, 8, 146, 95, 146, 146, 146, 40, 146, 190, 55, 146, 146, 146, 146, 146, 146, 302, 146, 146, 40, 146, 146, 146, 40, 146, 146, 146, 146, 40, 146, 40, 34, 146, 146, 40, 40, 146, 47, 146, 146, 40, 146, 40, 113, 146, 40, 146, 146, 146, 40, 146, 146, 146, 40, 22, 146, 146, 240, 146, 146, 146, 52, 146, 146, 146, 40, 146, 40, 40, 146, 169, 146, 146, 9, 146, 146, 146, 146, 146, 146, 7, 146, 40, 40, 8, 146, 40, 105, 146, 146, 40, 29, 40, 146, 40, 146, 8, 146, 40, 146, 337, 17, 40, 146, 146, 8, 146, 146, 146, 146, 146, 146, 146, 146, 146, 146, 146, 40, 321, 17, 146, 40, 146, 146, 146, 40, 40, 146, 40, 146, 54, 151, 17, 146, 40, 146, 146, 146, 40, 20, 146, 146, 146, 112, 146, 146, 40, 143, 40, 146, 146, 146, 146, 146, 40, 40, 40, 146, 146, 146, 146, 146, 146, 146, 40, 146, 146, 40, 146, 146, 146, 146, 40, 146, 146, 50, 146, 146, 146, 146, 146, 146, 40, 8, 146, 146, 146, 40, 146, 40, 146, 146, 146, 40, 146, 146, 40, 40, 146, 146, 146, 146, 146, 40, 146, 146, 146, 205, 146, 146, 146, 146, 146, 40, 20, 146, 146, 146, 40, 146, 40, 40, 146, 146, 146, 14, 40, 146, 40, 146, 146, 146, 40, 40, 146, 146, 40, 40, 146, 21, 146, 48, 19, 146, 146, 146, 146, 146, 146, 146, 146, 8, 146, 37, 146, 146, 103, 146, 146, 146, 40, 146, 146, 146, 146, 341, 17, 332, 146, 146, 40, 17, 146, 146, 146, 40, 146, 40, 100, 160, 146, 146, 40, 146, 17, 146, 28, 146, 40, 146, 8, 146, 146, 146, 116, 146, 40, 40, 38, 40, 40, 40, 40, 146, 146, 146, 40, 146, 200, 146, 146, 27, 146, 250, 40, 146, 40, 146, 146, 40, 146, 146, 146, 146, 40, 146, 146, 146, 146, 21, 94, 146, 146, 40, 146, 40, 40, 146, 146, 146, 9, 146, 146, 146, 146, 146, 40, 146, 146, 146, 146, 146, 40, 146, 146, 40, 146, 146, 146, 40, 146, 133, 40, 127, 146, 99, 146, 592, 146, 146, 8, 146, 26, 146, 146, 40, 146, 40, 146, 146, 40, 146, 40, 146, 40, 146, 52, 146, 146, 146, 146, 146, 101, 40, 90, 146, 146, 8, 140, 146, 8, 146, 146, 146, 146, 40, 146, 146, 146, 146, 146, 146, 8, 146, 146, 146, 40, 146, 40, 146, 146, 146, 146, 8, 8, 146, 146, 146, 146, 146, 146, 146]\n",
            "Agglomerative cluster no. of clusters 685\n"
          ]
        }
      ]
    },
    {
      "cell_type": "code",
      "source": [],
      "metadata": {
        "id": "seXF5JKNrKQD"
      },
      "execution_count": null,
      "outputs": []
    }
  ]
}